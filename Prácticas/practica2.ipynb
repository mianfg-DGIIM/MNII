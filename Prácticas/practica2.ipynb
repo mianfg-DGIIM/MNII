{
 "cells": [
  {
   "cell_type": "markdown",
   "metadata": {},
   "source": [
    "# Práctica 2. Fórmulas de derivación e integración numérica\n",
    "\n",
    "> Alumno: Miguel Ángel Fernández Gutiérrez ([mianfg@correo.ugr.es](mailto:mianfg@correo.ugr.es))\n",
    ">\n",
    "> 3º Doble Grado en Ingeniería Informática y Matemáticas, 2019/2020\n",
    "\n",
    "###### Importar módulos de Python necesarios"
   ]
  },
  {
   "cell_type": "code",
   "execution_count": 1,
   "metadata": {},
   "outputs": [],
   "source": [
    "import numpy as np\n",
    "import sympy as sp\n",
    "import matplotlib.pyplot as plt"
   ]
  },
  {
   "cell_type": "markdown",
   "metadata": {},
   "source": [
    "## Ejercicio 1\n",
    "\n",
    "Obtenga mediante interpolación en el espacio $\\mathbb{P}_2$ una fórmula para aproximar $f''(a)$ del tipo combinación\n",
    "de $f(a-h)$, $f(a)$ y $f(a+h)$."
   ]
  },
  {
   "cell_type": "markdown",
   "metadata": {},
   "source": [
    "### Solución al ejercicio 1\n",
    "\n",
    "Lo haremos mediante los polinomios de Lagrange."
   ]
  },
  {
   "cell_type": "code",
   "execution_count": 2,
   "metadata": {},
   "outputs": [],
   "source": [
    "f = sp.Function('f')\n",
    "a,h = sp.symbols('a,h')\n",
    "x = [a-h,a,a+h]"
   ]
  },
  {
   "cell_type": "code",
   "execution_count": 3,
   "metadata": {},
   "outputs": [
    {
     "data": {
      "text/plain": [
       "[f(a - h), f(a), f(a + h)]"
      ]
     },
     "execution_count": 3,
     "metadata": {},
     "output_type": "execute_result"
    }
   ],
   "source": [
    "y = [f(i) for i in x]\n",
    "y"
   ]
  },
  {
   "cell_type": "code",
   "execution_count": 4,
   "metadata": {},
   "outputs": [
    {
     "data": {
      "text/latex": [
       "$\\displaystyle f{\\left(a - h \\right)} + \\frac{\\left(f{\\left(a \\right)} - f{\\left(a - h \\right)}\\right) \\left(- a + h + z\\right)}{h} + \\frac{\\left(- a + z\\right) \\left(- a + h + z\\right) \\left(- 2 f{\\left(a \\right)} + f{\\left(a - h \\right)} + f{\\left(a + h \\right)}\\right)}{2 h^{2}}$"
      ],
      "text/plain": [
       "f(a - h) + (f(a) - f(a - h))*(-a + h + z)/h + (-a + z)*(-a + h + z)*(-2*f(a) + f(a - h) + f(a + h))/(2*h**2)"
      ]
     },
     "execution_count": 4,
     "metadata": {},
     "output_type": "execute_result"
    }
   ],
   "source": [
    "z = sp.Symbol('z')\n",
    "p0 = y[0]\n",
    "p1 = p0 + (z-x[0])/(x[1]-x[0])*(y[1]-y[0])\n",
    "D = sp.Symbol('D')\n",
    "p2 = p1 + (z-x[0])*(z-x[1])*D\n",
    "sol2 = sp.solve(p2.subs({z:x[2]})-y[2],D)\n",
    "D = sol2[0]\n",
    "p2 = p1 + (z-x[0])*(z-x[1])*D\n",
    "p2"
   ]
  },
  {
   "cell_type": "markdown",
   "metadata": {},
   "source": [
    "Nótese que el polinomio interpola a $f$ en los puntos $a-h,a,a+h$:"
   ]
  },
  {
   "cell_type": "code",
   "execution_count": 5,
   "metadata": {},
   "outputs": [
    {
     "data": {
      "text/plain": [
       "[True, True, True]"
      ]
     },
     "execution_count": 5,
     "metadata": {},
     "output_type": "execute_result"
    }
   ],
   "source": [
    "[p2.subs({z:x[i]})==y[i] for i in range(0,3)]"
   ]
  },
  {
   "cell_type": "markdown",
   "metadata": {},
   "source": [
    "Ahora sencillamente derivamos dos veces el polinomio de interpolación, y obtendremos la fórmula pedida para evaluar la derivada segunda en $a$:"
   ]
  },
  {
   "cell_type": "code",
   "execution_count": 6,
   "metadata": {},
   "outputs": [
    {
     "data": {
      "text/latex": [
       "$\\displaystyle \\frac{- 2 f{\\left(a \\right)} + f{\\left(a - h \\right)} + f{\\left(a + h \\right)}}{h^{2}}$"
      ],
      "text/plain": [
       "(-2*f(a) + f(a - h) + f(a + h))/h**2"
      ]
     },
     "execution_count": 6,
     "metadata": {},
     "output_type": "execute_result"
    }
   ],
   "source": [
    "d1 = sp.diff(p2,z,2).subs({z:a}).simplify()\n",
    "d1"
   ]
  },
  {
   "cell_type": "markdown",
   "metadata": {},
   "source": [
    "Quedando por tanto que:$$f''(a)\\approx\\frac{f(a-h)-2f(a)+f(a+h)}{h^2}$$"
   ]
  },
  {
   "cell_type": "markdown",
   "metadata": {},
   "source": [
    "## Ejercicio 2\n",
    "\n",
    "Con la fórmula obtenida en el ejercicio 1, halle una tabla de aproximaciones y errores de $f_1''(2.5)$, siendo $f_1(x)=x^x$, para $h=10^{-i},\\; i=1,\\ldots,5.$"
   ]
  },
  {
   "cell_type": "markdown",
   "metadata": {},
   "source": [
    "### Solución al ejercicio 2\n",
    "\n",
    "Realizaremos dicha tabla"
   ]
  },
  {
   "cell_type": "code",
   "execution_count": 7,
   "metadata": {},
   "outputs": [],
   "source": [
    "def func(z):\n",
    "    return z**z\n",
    "f = func"
   ]
  },
  {
   "cell_type": "code",
   "execution_count": 8,
   "metadata": {},
   "outputs": [
    {
     "data": {
      "text/latex": [
       "$\\displaystyle 40.2416648563875$"
      ],
      "text/plain": [
       "40.2416648563875"
      ]
     },
     "execution_count": 8,
     "metadata": {},
     "output_type": "execute_result"
    }
   ],
   "source": [
    "valor_exacto = sp.diff(f(z),z,2).subs({z:2.5})\n",
    "valor_exacto"
   ]
  },
  {
   "cell_type": "code",
   "execution_count": 9,
   "metadata": {},
   "outputs": [],
   "source": [
    "def formula(f, a, h):\n",
    "    return (-2*f(a)+f(a-h)+f(a+h))/h**2"
   ]
  },
  {
   "cell_type": "code",
   "execution_count": 10,
   "metadata": {},
   "outputs": [
    {
     "data": {
      "text/plain": [
       "[40.42056829795832,\n",
       " 40.243450230939004,\n",
       " 40.24168270788664,\n",
       " 40.24166475602442,\n",
       " 40.24164113047845]"
      ]
     },
     "execution_count": 10,
     "metadata": {},
     "output_type": "execute_result"
    }
   ],
   "source": [
    "valores_aproximados = [formula(f=lambda z:z**z, a=2.5, h=10**(-i)) for i in range(1,6)]\n",
    "valores_aproximados"
   ]
  },
  {
   "cell_type": "markdown",
   "metadata": {},
   "source": [
    "Expresaremos los errores a continuación:"
   ]
  },
  {
   "cell_type": "code",
   "execution_count": 11,
   "metadata": {},
   "outputs": [],
   "source": [
    "errores = [abs(valor_aproximado - valor_exacto) for valor_aproximado in valores_aproximados]"
   ]
  },
  {
   "cell_type": "code",
   "execution_count": 12,
   "metadata": {},
   "outputs": [
    {
     "name": "stdout",
     "output_type": "stream",
     "text": [
      "Valor exacto: 40.2416648563875\n",
      "\n",
      "h\tAproximación\t\tError\n",
      "-\t------------\t\t-----\n",
      "10^-1\t40.42056829795832\t0.178903441570853\n",
      "10^-2\t40.243450230939004\t0.00178537455153815\n",
      "10^-3\t40.24168270788664\t0.0000178514991731049\n",
      "10^-4\t40.24166475602442\t1.00363045874019E-7\n",
      "10^-5\t40.24164113047845\t0.0000237259090170028\n"
     ]
    }
   ],
   "source": [
    "print(\"Valor exacto: {}\\n\".format(valor_exacto))\n",
    "\n",
    "#from tabulate import tabulate\n",
    "#print(tabulate([[\"10**{}\".format(-i), valores_aproximados[i-1], errores[i-1]] for i in range(1,6)], headers=['h', 'Aproximación', 'Error'], tablefmt='orgtbl'))\n",
    "\n",
    "print(\"h\\tAproximación\\t\\tError\")\n",
    "print(\"-\\t------------\\t\\t-----\")\n",
    "for i in range(1,6):\n",
    "    print(\"10^{}\\t{}\\t{}\".format(-i, valores_aproximados[i-1], errores[i-1]))"
   ]
  },
  {
   "cell_type": "markdown",
   "metadata": {},
   "source": [
    "## Ejercicio 3\n",
    "\n",
    "Sea $f_2(x)=\\frac{x^2+40}{x+\\sqrt{5x}+7}$. Calcule una tabla que recoja las derivadas de $f_2$ en $x_i=1,2,\\ldots,10$, utilizando alguna de las fórmulas de derivación numérica de primer orden obtenidas al inicio de la práctica, con $h=10^{-3}$, y muestre al mismo tiempo el error cometido en cada punto. Repita el ejercicio con la fórmula centrada obtenida para la derivada primera y, finalmente, para la obtenida en el ejercicio 1 (con respecto a la segunda derivada)."
   ]
  },
  {
   "cell_type": "markdown",
   "metadata": {},
   "source": [
    "### Solución al ejercicio 3"
   ]
  },
  {
   "cell_type": "markdown",
   "metadata": {},
   "source": [
    "Usaremos las tres fórmulas de derivación a continuación. La primera de ellas para aproximar $f_2'(x)$ será$$f_2'(x)\\approx \\frac{f_2(x+h)-f_2(x)}{h}$$"
   ]
  },
  {
   "cell_type": "code",
   "execution_count": 13,
   "metadata": {},
   "outputs": [],
   "source": [
    "def func(z):\n",
    "    return (z**2+40)/(z+(5*z)**(1/2)+7)\n",
    "f = func\n",
    "\n",
    "def formula(f, a, h):\n",
    "    return (f(a+h)-f(a))/h"
   ]
  },
  {
   "cell_type": "code",
   "execution_count": 14,
   "metadata": {},
   "outputs": [
    {
     "data": {
      "text/plain": [
       "[-0.6330758508230616,\n",
       " -0.20358841102519065,\n",
       " 0.013637834543889227,\n",
       " 0.15241382963759875,\n",
       " 0.2509073591920874,\n",
       " 0.32526720196468517,\n",
       " 0.3837792735330581,\n",
       " 0.43122332479583747,\n",
       " 0.47058475905004116,\n",
       " 0.5038394181333672]"
      ]
     },
     "execution_count": 14,
     "metadata": {},
     "output_type": "execute_result"
    }
   ],
   "source": [
    "valores_aproximados = [formula(f=lambda z:(z**2+40)/(z+(5*z)**(1/2)+7), a=i, h=10**(-3)) for i in range(1,11)]\n",
    "valores_aproximados"
   ]
  },
  {
   "cell_type": "code",
   "execution_count": 15,
   "metadata": {},
   "outputs": [
    {
     "data": {
      "text/plain": [
       "[-0.633413841504903,\n",
       " -0.203729991363422,\n",
       " 0.0135536765957583,\n",
       " 0.152356382446352,\n",
       " 0.250865051903114,\n",
       " 0.325234486346073,\n",
       " 0.383753089267232,\n",
       " 0.431201820656649,\n",
       " 0.470566739057635,\n",
       " 0.503824070415537]"
      ]
     },
     "execution_count": 15,
     "metadata": {},
     "output_type": "execute_result"
    }
   ],
   "source": [
    "deriv = sp.diff(f(z),z)\n",
    "valores_exactos = [deriv.subs({z:i}) for i in range(1,11)]\n",
    "valores_exactos"
   ]
  },
  {
   "cell_type": "code",
   "execution_count": 16,
   "metadata": {},
   "outputs": [],
   "source": [
    "errores = [abs(val_aprox - val_exact) for (val_aprox, val_exact) in zip(valores_aproximados, valores_exactos)]"
   ]
  },
  {
   "cell_type": "code",
   "execution_count": 17,
   "metadata": {},
   "outputs": [
    {
     "name": "stdout",
     "output_type": "stream",
     "text": [
      "h\tValor exacto\t\tAproximación\t\tError\n",
      "-\t------------\t\t------------\t\t-----\n",
      "10^-1\t-0.633413841504903\t-0.6330758508230616\t0.000337990681841038\n",
      "10^-2\t-0.203729991363422\t-0.20358841102519065\t0.000141580338231473\n",
      "10^-3\t0.0135536765957583\t0.013637834543889227\t0.0000841579481308807\n",
      "10^-4\t0.152356382446352\t0.15241382963759875\t0.0000574471912467844\n",
      "10^-5\t0.250865051903114\t0.2509073591920874\t0.0000423072889731979\n"
     ]
    }
   ],
   "source": [
    "print(\"h\\tValor exacto\\t\\tAproximación\\t\\tError\")\n",
    "print(\"-\\t------------\\t\\t------------\\t\\t-----\")\n",
    "for i in range(1,6):\n",
    "    print(\"10^{}\\t{}\\t{}\\t{}\".format(-i, valores_exactos[i-1], valores_aproximados[i-1], errores[i-1]))"
   ]
  },
  {
   "cell_type": "markdown",
   "metadata": {},
   "source": [
    "Lo haremos de forma análoga con la fórmula centrada:$$f_2'(x)\\approx\\frac{f_2(x+h)-f_2(x-h)}{2h}$$"
   ]
  },
  {
   "cell_type": "code",
   "execution_count": 18,
   "metadata": {},
   "outputs": [],
   "source": [
    "def formula(f, a, h):\n",
    "    return (f(a+h)-f(a-h))/(2*h)"
   ]
  },
  {
   "cell_type": "code",
   "execution_count": 19,
   "metadata": {},
   "outputs": [
    {
     "data": {
      "text/plain": [
       "[-0.6334139834538455,\n",
       " -0.20373002121565342,\n",
       " 0.013553664382381925,\n",
       " 0.15235637597976748,\n",
       " 0.25086504797688924,\n",
       " 0.3252344837485488,\n",
       " 0.38375308744642567,\n",
       " 0.4312018193228795,\n",
       " 0.4705667380475731,\n",
       " 0.50382406963001]"
      ]
     },
     "execution_count": 19,
     "metadata": {},
     "output_type": "execute_result"
    }
   ],
   "source": [
    "valores_aproximados = [formula(f=lambda z:(z**2+40)/(z+(5*z)**(1/2)+7), a=i, h=10**(-3)) for i in range(1,11)]\n",
    "valores_aproximados"
   ]
  },
  {
   "cell_type": "code",
   "execution_count": 20,
   "metadata": {},
   "outputs": [],
   "source": [
    "errores = [abs(val_aprox - val_exact) for (val_aprox, val_exact) in zip(valores_aproximados, valores_exactos)]"
   ]
  },
  {
   "cell_type": "code",
   "execution_count": 21,
   "metadata": {},
   "outputs": [
    {
     "name": "stdout",
     "output_type": "stream",
     "text": [
      "h\tValor exacto\t\tAproximación\t\tError\n",
      "-\t------------\t\t------------\t\t-----\n",
      "10^-1\t-0.633413841504903\t-0.6334139834538455\t1.41948942822268E-7\n",
      "10^-2\t-0.203729991363422\t-0.20373002121565342\t2.98522312980332E-8\n",
      "10^-3\t0.0135536765957583\t0.013553664382381925\t1.22133764213217E-8\n",
      "10^-4\t0.152356382446352\t0.15235637597976748\t6.46658449010573E-9\n",
      "10^-5\t0.250865051903114\t0.25086504797688924\t3.92622495626327E-9\n"
     ]
    }
   ],
   "source": [
    "print(\"h\\tValor exacto\\t\\tAproximación\\t\\tError\")\n",
    "print(\"-\\t------------\\t\\t------------\\t\\t-----\")\n",
    "for i in range(1,6):\n",
    "    print(\"10^{}\\t{}\\t{}\\t{}\".format(-i, valores_exactos[i-1], valores_aproximados[i-1], errores[i-1]))"
   ]
  },
  {
   "cell_type": "markdown",
   "metadata": {},
   "source": [
    "Nótese cómo los errores son considerablemente menores para la fórmula centrada. Usaremos finalmente la fórmula centrada obtenida en [el ejercicio 1](#Solución-al-ejercicio-1) para aproximar la derivada de segundo orden de $f_2$:$$f_2(x)\\approx\\frac{f_2(x-h)-2f_2(x)+f_2(x+h)}{h^2}$$"
   ]
  },
  {
   "cell_type": "code",
   "execution_count": 22,
   "metadata": {},
   "outputs": [],
   "source": [
    "def formula(f, a, h):\n",
    "    return (f(a-h)-2*f(a)+f(a+h))/(h**2)"
   ]
  },
  {
   "cell_type": "code",
   "execution_count": 23,
   "metadata": {},
   "outputs": [
    {
     "data": {
      "text/plain": [
       "[0.6762652615677212,\n",
       " 0.2832203809255418,\n",
       " 0.1683403230146041,\n",
       " 0.11490731566254908,\n",
       " 0.08462243039630835,\n",
       " 0.06543643227274742,\n",
       " 0.05237217326481414,\n",
       " 0.04301094591596666,\n",
       " 0.036042004936120975,\n",
       " 0.03069700671431974]"
      ]
     },
     "execution_count": 23,
     "metadata": {},
     "output_type": "execute_result"
    }
   ],
   "source": [
    "valores_aproximados = [formula(f=lambda z:(z**2+40)/(z+(5*z)**(1/2)+7), a=i, h=10**(-3)) for i in range(1,11)]\n",
    "valores_aproximados"
   ]
  },
  {
   "cell_type": "code",
   "execution_count": 24,
   "metadata": {},
   "outputs": [
    {
     "data": {
      "text/plain": [
       "[0.676265098285376,\n",
       " 0.283220364176106,\n",
       " 0.168340319928121,\n",
       " 0.114907312895053,\n",
       " 0.0846224302869937,\n",
       " 0.0654364313639429,\n",
       " 0.0523721743690358,\n",
       " 0.0430109449028751,\n",
       " 0.0360420057237485,\n",
       " 0.0306970066620211]"
      ]
     },
     "execution_count": 24,
     "metadata": {},
     "output_type": "execute_result"
    }
   ],
   "source": [
    "deriv = sp.diff(f(z),z,2)\n",
    "valores_exactos = [deriv.subs({z:i}) for i in range(1,11)]\n",
    "valores_exactos"
   ]
  },
  {
   "cell_type": "code",
   "execution_count": 25,
   "metadata": {},
   "outputs": [],
   "source": [
    "errores = [abs(val_aprox - val_exact) for (val_aprox, val_exact) in zip(valores_aproximados, valores_exactos)]"
   ]
  },
  {
   "cell_type": "code",
   "execution_count": 26,
   "metadata": {},
   "outputs": [
    {
     "name": "stdout",
     "output_type": "stream",
     "text": [
      "h\tValor exacto\t\tAproximación\t\tError\n",
      "-\t------------\t\t------------\t\t-----\n",
      "10^-1\t0.676265098285376\t0.6762652615677212\t1.63282345311266E-7\n",
      "10^-2\t0.283220364176106\t0.2832203809255418\t1.67494356717590E-8\n",
      "10^-3\t0.168340319928121\t0.1683403230146041\t3.08648318014804E-9\n",
      "10^-4\t0.114907312895053\t0.11490731566254908\t2.76749589911418E-9\n",
      "10^-5\t0.0846224302869937\t0.08462243039630835\t1.09314654550552E-10\n"
     ]
    }
   ],
   "source": [
    "print(\"h\\tValor exacto\\t\\tAproximación\\t\\tError\")\n",
    "print(\"-\\t------------\\t\\t------------\\t\\t-----\")\n",
    "for i in range(1,6):\n",
    "    print(\"10^{}\\t{}\\t{}\\t{}\".format(-i, valores_exactos[i-1], valores_aproximados[i-1], errores[i-1]))"
   ]
  },
  {
   "cell_type": "markdown",
   "metadata": {},
   "source": [
    "## Ejercicio 4\n",
    "\n",
    "Divida el intervalo $[1,2]$ en 100 partes iguales y aplique las fórmulas del rectángulo, Simpson y trapecio compuestas para aproximar la integral en dicho intervalo de $f_1$. Compare dichos resultados."
   ]
  },
  {
   "cell_type": "markdown",
   "metadata": {},
   "source": [
    "### Solución al ejercicio 4"
   ]
  },
  {
   "cell_type": "markdown",
   "metadata": {},
   "source": [
    "Primero crearemos las funciones para computar cada una de las fórmulas compuestas:"
   ]
  },
  {
   "cell_type": "code",
   "execution_count": 27,
   "metadata": {},
   "outputs": [],
   "source": [
    "def formula_rectangulo_izquierda(f, a, b, nx):\n",
    "    h = (b-a)/nx\n",
    "    return h*sum([f(a+i*h) for i in range(0,nx)])\n",
    "\n",
    "def formula_rectangulo_derecha(f, a, b, nx):\n",
    "    h = (b-a)/nx\n",
    "    return h*sum([f(a+(i+1)*h) for i in range(0,nx)])\n",
    "\n",
    "def formula_simpson(f, a, b, nx):\n",
    "    h = (b-a)/nx\n",
    "    m = int(nx/2)\n",
    "    P = sum([f(a+2*i*h) for i in range(1,m)])\n",
    "    I = sum([f(a+(2*i-1)*h) for i in range(1,m+1)])\n",
    "    E = f(a)+f(b)\n",
    "    return h/3*(E+2*P+4*I)\n",
    "\n",
    "def formula_trapecio(f, a, b, nx):\n",
    "    h = (b-a)/nx\n",
    "    return h/2*(f(a)+2*sum([f(a+i*h) for i in range(1,nx)])+f(b))"
   ]
  },
  {
   "cell_type": "markdown",
   "metadata": {},
   "source": [
    "Calcularemos el valor exacto de la integral primeramente:"
   ]
  },
  {
   "cell_type": "code",
   "execution_count": 28,
   "metadata": {},
   "outputs": [
    {
     "data": {
      "text/latex": [
       "$\\displaystyle \\int\\limits_{1}^{2} z^{z}\\, dz$"
      ],
      "text/plain": [
       "Integral(z**z, (z, 1, 2))"
      ]
     },
     "execution_count": 28,
     "metadata": {},
     "output_type": "execute_result"
    }
   ],
   "source": [
    "def func(z):\n",
    "    return z**z\n",
    "f = func\n",
    "a, b = 1, 2\n",
    "valor_exacto = sp.integrate(f(z),[z,a,b])\n",
    "valor_exacto"
   ]
  },
  {
   "cell_type": "markdown",
   "metadata": {},
   "source": [
    "Vemos que `sympy` no es capaz de calcular el valor exacto de esta integral (algo que esperábamos). Tomaremos el valor exacto de esta integral como la aproximación de `quad`, de `scipy` (para tener una referencia). Incidiremos en que tenemos ya un error en esta aproximación, pero lo tomaremos como el _valor exacto_ igualmente. Más adelante veremos que podemos tomarlo como referencia a la hora de ver qué método nos da una aproximación más exacta."
   ]
  },
  {
   "cell_type": "code",
   "execution_count": 29,
   "metadata": {},
   "outputs": [
    {
     "data": {
      "text/plain": [
       "(2.050446234534731, 2.2764526203364124e-14)"
      ]
     },
     "execution_count": 29,
     "metadata": {},
     "output_type": "execute_result"
    }
   ],
   "source": [
    "from scipy.integrate import quad\n",
    "valor_exacto, abserr = quad(f, a, b)\n",
    "valor_exacto, abserr"
   ]
  },
  {
   "cell_type": "code",
   "execution_count": 30,
   "metadata": {},
   "outputs": [],
   "source": [
    "n = 100\n",
    "valores_aproximados = {}\n",
    "formulas = ['r_izquierda', 'r_derecha', 'simpson ', 'trapecio']\n",
    "valores_aproximados[formulas[0]] = formula_rectangulo_izquierda(f, a, b, n)\n",
    "valores_aproximados[formulas[1]] = formula_rectangulo_derecha(f, a, b, n)\n",
    "valores_aproximados[formulas[2]] = formula_simpson(f, a, b, n)\n",
    "valores_aproximados[formulas[3]] = formula_trapecio(f, a, b, n)"
   ]
  },
  {
   "cell_type": "code",
   "execution_count": 31,
   "metadata": {},
   "outputs": [
    {
     "name": "stdout",
     "output_type": "stream",
     "text": [
      "Valor \"exacto\": 2.050446234534731\n",
      "\n",
      "Fórmula\t\tAproximación\t\tError\n",
      "-------\t\t------------\t\t-----\n",
      "r_izquierda\t2.0354943390855573\t0.014951895449173858\n",
      "r_derecha\t2.065494339085557\t0.015048104550825947\n",
      "simpson \t2.050446235955426\t1.4206946730155323e-09\n",
      "trapecio\t2.0504943390855574\t4.8104550826266745e-05\n"
     ]
    }
   ],
   "source": [
    "print(\"Valor \\\"exacto\\\": {}\\n\".format(valor_exacto))\n",
    "\n",
    "print(\"Fórmula\\t\\tAproximación\\t\\tError\")\n",
    "print(\"-------\\t\\t------------\\t\\t-----\")\n",
    "for formula in formulas:\n",
    "    print(\"{}\\t{}\\t{}\".format(formula, valores_aproximados[formula], abs(valores_aproximados[formula]-valor_exacto)))"
   ]
  },
  {
   "cell_type": "markdown",
   "metadata": {},
   "source": [
    "Vemos que el que estaría más cerca del valor exacto de la integral sería el del Simpson (nótese que los errores que hemos obtenido nosotros son del orden de $10^{-9}$ mientras que el error de `quad` es de $10^{-14}$, considerablemente mejor, y por eso podemos decir que el valor aproximado por Simpson es el más cercano al valor exacto de la integral."
   ]
  },
  {
   "cell_type": "markdown",
   "metadata": {},
   "source": [
    "## Ejercicio 5\n",
    "\n",
    "Repita el ejercicio 4 para $f_2$. "
   ]
  },
  {
   "cell_type": "markdown",
   "metadata": {},
   "source": [
    "### Solución al ejercicio 5"
   ]
  },
  {
   "cell_type": "code",
   "execution_count": 32,
   "metadata": {},
   "outputs": [],
   "source": [
    "def func(z):\n",
    "    return (z**2+40)/(z+(5*z)**(1/2)+7)\n",
    "f = func\n",
    "a, b = 1, 2"
   ]
  },
  {
   "cell_type": "code",
   "execution_count": 33,
   "metadata": {},
   "outputs": [
    {
     "data": {
      "text/latex": [
       "$\\displaystyle - \\frac{270 \\sqrt{115} \\operatorname{atan}{\\left(\\frac{\\sqrt{115}}{23} + \\frac{2 \\sqrt{46}}{23} \\right)}}{23} - \\frac{52 \\sqrt{5}}{3} - 9 \\log{\\left(4 \\sqrt{5} + 32 \\right)} - \\frac{1}{2} + 9 \\log{\\left(4 \\sqrt{10} + 36 \\right)} + \\frac{50 \\sqrt{10}}{3} + \\frac{270 \\sqrt{115} \\operatorname{atan}{\\left(\\frac{2 \\sqrt{23}}{23} + \\frac{\\sqrt{115}}{23} \\right)}}{23}$"
      ],
      "text/plain": [
       "-270*sqrt(115)*atan(sqrt(115)/23 + 2*sqrt(46)/23)/23 - 52*sqrt(5)/3 - 9*log(4*sqrt(5) + 32) - 1/2 + 9*log(4*sqrt(10) + 36) + 50*sqrt(10)/3 + 270*sqrt(115)*atan(2*sqrt(23)/23 + sqrt(115)/23)/23"
      ]
     },
     "execution_count": 33,
     "metadata": {},
     "output_type": "execute_result"
    }
   ],
   "source": [
    "valor_exacto = sp.integrate((z**2+40)/(z+sp.sqrt(5*z)+7),[z,a,b])\n",
    "valor_exacto"
   ]
  },
  {
   "cell_type": "code",
   "execution_count": 34,
   "metadata": {},
   "outputs": [
    {
     "data": {
      "text/latex": [
       "$\\displaystyle 3.77658111776791$"
      ],
      "text/plain": [
       "3.77658111776791"
      ]
     },
     "execution_count": 34,
     "metadata": {},
     "output_type": "execute_result"
    }
   ],
   "source": [
    "# igualamos valor_exacto a la representación decimal para agilizar los cálculos\n",
    "valor_exacto = valor_exacto.evalf()\n",
    "valor_exacto"
   ]
  },
  {
   "cell_type": "code",
   "execution_count": 35,
   "metadata": {},
   "outputs": [],
   "source": [
    "n = 100\n",
    "valores_aproximados = {}\n",
    "formulas = ['r_izquierda', 'r_derecha', 'simpson ', 'trapecio']\n",
    "valores_aproximados[formulas[0]] = formula_rectangulo_izquierda(f, a, b, n)\n",
    "valores_aproximados[formulas[1]] = formula_rectangulo_derecha(f, a, b, n)\n",
    "valores_aproximados[formulas[2]] = formula_simpson(f, a, b, n)\n",
    "valores_aproximados[formulas[3]] = formula_trapecio(f, a, b, n)"
   ]
  },
  {
   "cell_type": "code",
   "execution_count": 36,
   "metadata": {},
   "outputs": [
    {
     "name": "stdout",
     "output_type": "stream",
     "text": [
      "Valor \"exacto\": 3.77658111776791\n",
      "\n",
      "Fórmula\t\tAproximación\t\tError\n",
      "-------\t\t------------\t\t-----\n",
      "r_izquierda\t3.778523202782093\t0.00194208501418336\n",
      "r_derecha\t3.774646194132547\t0.00193492363536274\n",
      "simpson \t3.776581117805272\t3.73621134031055E-11\n",
      "trapecio\t3.77658469845732\t0.00000358068941030965\n"
     ]
    }
   ],
   "source": [
    "print(\"Valor \\\"exacto\\\": {}\\n\".format(valor_exacto))\n",
    "\n",
    "print(\"Fórmula\\t\\tAproximación\\t\\tError\")\n",
    "print(\"-------\\t\\t------------\\t\\t-----\")\n",
    "for formula in formulas:\n",
    "    print(\"{}\\t{}\\t{}\".format(formula, valores_aproximados[formula], abs(valores_aproximados[formula]-valor_exacto)))"
   ]
  },
  {
   "cell_type": "markdown",
   "metadata": {},
   "source": [
    "De nuevo vemos que Simpson es, con diferencia, la que da la mejor aproximación."
   ]
  },
  {
   "cell_type": "markdown",
   "metadata": {},
   "source": [
    "## Ejercicio 6\n",
    "\n",
    "Sea $f_3(x)=x^{15} e^x$ en $[0,2]$. Vamos a dividir el intervalo en $10\\times 2^n$ subintervalos, es decir, $10,\\,20,\\,40,\\, 80,\\ldots $ y a aplicar la fórmula de Simpson compuesta hasta que la diferencia entre dos aproximaciones consecutivas (por ejemplo, podrían\n",
    "ser con $20$ y $40$ subintervalos) sea menor que $10^{-2}$, dando en tal caso por buena la última aproximación obtenida. Programe\n",
    "y calcule dicha aproximación. Compare ambas aproximaciones con\n",
    "el valor exacto."
   ]
  },
  {
   "cell_type": "markdown",
   "metadata": {},
   "source": [
    "### Solución al ejercicio 6\n",
    "\n",
    "Crearemos un sencillo algoritmo para calcular el valor aproximado de acuerdo a los criterios del enunciado."
   ]
  },
  {
   "cell_type": "code",
   "execution_count": 37,
   "metadata": {},
   "outputs": [
    {
     "name": "stdout",
     "output_type": "stream",
     "text": [
      "Número de subintervalos:  320\n",
      "Valor aproximado:  27062.719549167832\n"
     ]
    }
   ],
   "source": [
    "def f(z):\n",
    "    return z**15*np.exp(z)\n",
    "\n",
    "def dif(a, b, n):\n",
    "    return (b-a)/n\n",
    "\n",
    "a, b = 0, 2\n",
    "n = 10\n",
    "\n",
    "d = dif(a, b, n)\n",
    "while d >= 10**(-2):\n",
    "    valor_aproximado = formula_simpson(f, a, b, n)\n",
    "    n *= 2\n",
    "    d = dif(a, b, n)\n",
    "\n",
    "print('Número de subintervalos: ', n)\n",
    "print('Valor aproximado: ', valor_aproximado)"
   ]
  },
  {
   "cell_type": "markdown",
   "metadata": {},
   "source": [
    "Compararemos la aproximación obtenida con el valor exacto."
   ]
  },
  {
   "cell_type": "code",
   "execution_count": 38,
   "metadata": {},
   "outputs": [
    {
     "data": {
      "text/latex": [
       "$\\displaystyle 27062.7024138996$"
      ],
      "text/plain": [
       "27062.7024138996"
      ]
     },
     "execution_count": 38,
     "metadata": {},
     "output_type": "execute_result"
    }
   ],
   "source": [
    "valor_exacto = sp.integrate(z**15*sp.exp(z), [z,a,b])\n",
    "valor_exacto.evalf()"
   ]
  },
  {
   "cell_type": "code",
   "execution_count": 39,
   "metadata": {},
   "outputs": [
    {
     "data": {
      "text/latex": [
       "$\\displaystyle 0.0170685222739292$"
      ],
      "text/plain": [
       "0.0170685222739292"
      ]
     },
     "execution_count": 39,
     "metadata": {},
     "output_type": "execute_result"
    }
   ],
   "source": [
    "error = abs(valor_aproximado - valor_exacto).evalf()\n",
    "error"
   ]
  },
  {
   "cell_type": "markdown",
   "metadata": {},
   "source": [
    "## Ejercicio 7\n",
    "\n",
    "Calcule las fórmulas gaussianas con $2$ y $3$ nodos, en el intervalo $[-1,1]$, siendo la función peso el valor absoluto de la variable. Aplíquelas para aproximar la función $x\\; e^x$ en $[-1,1]$ y compare los resultados con el valor exacto (organizando los cálculos de forma adecuada)."
   ]
  },
  {
   "cell_type": "markdown",
   "metadata": {},
   "source": [
    "### Solución al ejercicio 7\n",
    "\n",
    "Basta realizar un procedimiento similar al del Notebook de la práctica. Nosotros programaremos una función para modularizar este procedimiento."
   ]
  },
  {
   "cell_type": "code",
   "execution_count": 40,
   "metadata": {},
   "outputs": [],
   "source": [
    "def get_nodos_gauss(w, a, b, n):\n",
    "    x = sp.Symbol('x')\n",
    "    grexact = 2*n-1\n",
    "    \n",
    "    p = sp.symbols('p0:'+ str(n)) # generamos una tupla de n nodos\n",
    "    nodos = list(p)\n",
    "    c = sp.symbols('c0:'+ str(n)) # generamos una tupla de n coeficientes\n",
    "    coefs = list(c)\n",
    "    \n",
    "    incogs = nodos + coefs\n",
    "    ecs = [np.dot([(z**i).subs({z:nodos[j]}) \\\n",
    "                   for j in range(n)],coefs)-sp.integrate(w(x)*x**i,(x,a,b)) \\\n",
    "                       for i in range(grexact+1)]\n",
    "    solsGauss = sp.solve(ecs,incogs)\n",
    "    \n",
    "    for i in range(n):\n",
    "        nodos[i] = solsGauss[0][i]\n",
    "        coefs[i] = solsGauss[0][n+i]\n",
    "    \n",
    "    return [{'coef': coefs[i], 'nodo': nodos[i]} for i in range(n)]"
   ]
  },
  {
   "cell_type": "markdown",
   "metadata": {},
   "source": [
    "Nótese que devuelve un array de dicts. Esto es así para facilitar la sustitución de los valores. Probaremos con dos y tres nodos en el intervalo $[-1,1]$, siendo $\\omega(x)=|x|$."
   ]
  },
  {
   "cell_type": "code",
   "execution_count": 41,
   "metadata": {},
   "outputs": [
    {
     "data": {
      "text/plain": [
       "[{'coef': 1/2, 'nodo': -sqrt(2)/2}, {'coef': 1/2, 'nodo': sqrt(2)/2}]"
      ]
     },
     "execution_count": 41,
     "metadata": {},
     "output_type": "execute_result"
    }
   ],
   "source": [
    "def w(x):\n",
    "    return abs(x)\n",
    "ng2 = get_nodos_gauss(w, -1, 1, 2)\n",
    "ng2"
   ]
  },
  {
   "cell_type": "code",
   "execution_count": 42,
   "metadata": {},
   "outputs": [
    {
     "data": {
      "text/plain": [
       "[{'coef': 1/4, 'nodo': 0},\n",
       " {'coef': 3/8, 'nodo': -sqrt(6)/3},\n",
       " {'coef': 3/8, 'nodo': sqrt(6)/3}]"
      ]
     },
     "execution_count": 42,
     "metadata": {},
     "output_type": "execute_result"
    }
   ],
   "source": [
    "ng3 = get_nodos_gauss(w, -1, 1, 3)\n",
    "ng3"
   ]
  },
  {
   "cell_type": "markdown",
   "metadata": {},
   "source": [
    "Intentaremos aproximar:$$\\int_{-1}^1\\omega(x)x e^x dx = \\int_{-1}^1|x| x e^x dx$$"
   ]
  },
  {
   "cell_type": "markdown",
   "metadata": {},
   "source": [
    "Primero calculamos el valor exacto:"
   ]
  },
  {
   "cell_type": "code",
   "execution_count": 43,
   "metadata": {},
   "outputs": [],
   "source": [
    "def f(x):\n",
    "    return x*sp.exp(x)"
   ]
  },
  {
   "cell_type": "code",
   "execution_count": 44,
   "metadata": {},
   "outputs": [
    {
     "data": {
      "text/latex": [
       "$\\displaystyle -4 + \\frac{5}{e} + e$"
      ],
      "text/plain": [
       "-4 + 5*exp(-1) + E"
      ]
     },
     "execution_count": 44,
     "metadata": {},
     "output_type": "execute_result"
    }
   ],
   "source": [
    "valor_exacto = sp.integrate(w(z)*f(z), [z,-1,1])\n",
    "valor_exacto"
   ]
  },
  {
   "cell_type": "code",
   "execution_count": 45,
   "metadata": {},
   "outputs": [],
   "source": [
    "# para agilizar los cálculos y mostrar directamente el resultado decimal\n",
    "valor_exacto = valor_exacto.evalf()"
   ]
  },
  {
   "cell_type": "code",
   "execution_count": 46,
   "metadata": {},
   "outputs": [],
   "source": [
    "def evaluar_gauss(f, nodos_gauss):\n",
    "    aprox = 0\n",
    "    for nodo in nodos_gauss:\n",
    "        aprox += nodo['coef']*f(nodo['nodo'])\n",
    "\n",
    "    return aprox"
   ]
  },
  {
   "cell_type": "code",
   "execution_count": 47,
   "metadata": {},
   "outputs": [],
   "source": [
    "valores_aproximados = {}\n",
    "valores_aproximados[2] = evaluar_gauss(f, ng2).evalf()\n",
    "valores_aproximados[3] = evaluar_gauss(f, ng3).evalf()"
   ]
  },
  {
   "cell_type": "code",
   "execution_count": 48,
   "metadata": {},
   "outputs": [
    {
     "name": "stdout",
     "output_type": "stream",
     "text": [
      "Valor exacto: 0.557679034316257\n",
      "\n",
      "n\tAproximación\t\tError\n",
      "-\t------------\t\t-----\n",
      "2\t0.542720820636303\t-0.0149582136799534\n",
      "3\t0.557437075708894\t-0.000241958607363313\n"
     ]
    }
   ],
   "source": [
    "print(\"Valor exacto: {}\\n\".format(valor_exacto))\n",
    "\n",
    "print(\"n\\tAproximación\\t\\tError\")\n",
    "print(\"-\\t------------\\t\\t-----\")\n",
    "for i in [2, 3]:\n",
    "    print(\"{}\\t{}\\t{}\".format(i, valores_aproximados[i], valores_aproximados[i]-valor_exacto))"
   ]
  },
  {
   "cell_type": "markdown",
   "metadata": {},
   "source": [
    "Vemos que, evidentemente, a mayor número de nodos, menor es el error."
   ]
  },
  {
   "cell_type": "markdown",
   "metadata": {},
   "source": [
    "## Ejercicio 8\n",
    "\n",
    "Programar las técnicas de integración de Romberg y adaptativa, para después aplicarlas a la aproximación de la siguiente integral $$\\int_a^b p(x)\\, dx$$\n",
    "siendo  $\\;a=\\displaystyle\\min_{0\\leq i\\leq 7}{d_i}$, $\\;b=\\displaystyle\\max_{0\\leq i\\leq 7}{d_i}$ y \n",
    "$$p(x)=d_0 + d_1 x + d_2 x^2 + d_3 x^3+ d_4 x^4 + d_5 x^5 + d_6 x^6 + d_7 x^7 $$\n",
    "(siendo $d_0, d_1, \\ldots, d_7$ los dígitos de su DNI, pasaporte o tarjeta de residente)."
   ]
  },
  {
   "cell_type": "markdown",
   "metadata": {},
   "source": [
    "### Solución al ejercicio 8"
   ]
  },
  {
   "cell_type": "markdown",
   "metadata": {},
   "source": [
    "> **Nota:** para proteger mis datos personales, supondremos que mi DNI es 12345678.\n",
    "\n",
    "Primero veamos cuál sería \"mi polinomio\", se trataría de:$$p(x)=1+2x+3x^2+4x^3+5x^4+6x^5+7x^6+8x^7$$\n",
    "Y los límites de integración serían, en mi caso, $a=1,b=8$."
   ]
  },
  {
   "cell_type": "code",
   "execution_count": 49,
   "metadata": {},
   "outputs": [],
   "source": [
    "a, b = 1, 8\n",
    "def p(x):\n",
    "    return 1+2*x+3*x**2+4*x**3+5*x**4+6*x**5+7*x**6+8*x**7"
   ]
  },
  {
   "cell_type": "markdown",
   "metadata": {},
   "source": [
    "Veamos primeramente el valor exacto de $\\int_a^bp(x)dx$."
   ]
  },
  {
   "cell_type": "code",
   "execution_count": 50,
   "metadata": {},
   "outputs": [
    {
     "data": {
      "text/latex": [
       "$\\displaystyle 19173952$"
      ],
      "text/plain": [
       "19173952"
      ]
     },
     "execution_count": 50,
     "metadata": {},
     "output_type": "execute_result"
    }
   ],
   "source": [
    "valor_exacto = sp.integrate(p(z), [z, a, b])\n",
    "valor_exacto"
   ]
  },
  {
   "cell_type": "markdown",
   "metadata": {},
   "source": [
    "En forma decimal es:"
   ]
  },
  {
   "cell_type": "code",
   "execution_count": 51,
   "metadata": {},
   "outputs": [
    {
     "data": {
      "text/latex": [
       "$\\displaystyle 19173952.0$"
      ],
      "text/plain": [
       "19173952.0000000"
      ]
     },
     "execution_count": 51,
     "metadata": {},
     "output_type": "execute_result"
    }
   ],
   "source": [
    "valor_exacto = valor_exacto.evalf()\n",
    "valor_exacto"
   ]
  },
  {
   "cell_type": "markdown",
   "metadata": {},
   "source": [
    "###### Algoritmo de integración Romberg"
   ]
  },
  {
   "cell_type": "markdown",
   "metadata": {},
   "source": [
    "La integración Romberg consiste en hallar la sucesión de aproximaciones $\\{R(N,N)\\}_{N=0}^\\infty$. Sería sencillo programar un algoritmo recursivo para obtener $R(M,M)$ dado un $M$, pero no tendría mucho interés práctico. Programaremos por tanto un algoritmo que irá calculando $R(M,M)$ partiendo de $M=0$ y que parará cuando la diferencia absoluta de los dos últimos términos calculados sea menor que una cierta tolerancia, `tol`.\n",
    "\n",
    "$$\\begin{matrix}\n",
    "R(0,0)\\\\\n",
    "R(1,0) & R(1,1)\\\\\n",
    "R(2,0) & R(2,1) & R(2,2)\\\\\n",
    "\\vdots & \\vdots & \\vdots & \\ddots \\\\\n",
    "R(N,0) & R(N,1) & R(N,2) & \\cdots & R(N,N)\n",
    "\\end{matrix}$$\n",
    "\n",
    "Usaremos que:\n",
    "\n",
    "$$R(j,0)=T_{2^j},\\;\\;\\;\\;R(j,k)=\\frac{4^k R(j,k-1)-R(j-1,k-1)}{4^k-1}\\;\\text{con}\\;j=0,1,...,N;k=1,...,j$$\n",
    "\n",
    "donde $T_n$ es la fórmula del trapecio compuesta en $[a,b]$ con $n$ nodos (programada en la [solución al ejercicio 4](#Solución-al-ejercicio-4)).\n",
    "\n",
    "Este algoritmo funcionará almacenando únicamente las filas necesarias para calcular la última iteración de la sucesión (teniendo en cuenta que, de regalo, nos llevamos que para calcular la última iteración nos hace falta almacenar la fila de la iteración anterior, permitiéndonos hacer la comprobación de la tolerancia aquí)."
   ]
  },
  {
   "cell_type": "code",
   "execution_count": 52,
   "metadata": {},
   "outputs": [],
   "source": [
    "def integracion_romberg(f, a, b, tol=10**(-4)):\n",
    "    n = 0\n",
    "    r0 = [formula_trapecio(f, a, b, 2**n)]\n",
    "    continuar = True\n",
    "    \n",
    "    while continuar:\n",
    "        n += 1\n",
    "        r1 = [formula_trapecio(f, a, b, 2**n)]\n",
    "        \n",
    "        for i in range(0, n):\n",
    "            r1.append((4**n*r1[i-1]-r0[n-1])/(4**n-1))\n",
    "\n",
    "        continuar = (abs(r1[n]-r0[n-1]) >= tol)\n",
    "        r0 = r1\n",
    "    \n",
    "    return r1[n]"
   ]
  },
  {
   "cell_type": "markdown",
   "metadata": {},
   "source": [
    "Lo aplicamos a continuación a nuestro polinomio."
   ]
  },
  {
   "cell_type": "code",
   "execution_count": 53,
   "metadata": {},
   "outputs": [
    {
     "data": {
      "text/plain": [
       "19173952.00001504"
      ]
     },
     "execution_count": 53,
     "metadata": {},
     "output_type": "execute_result"
    }
   ],
   "source": [
    "valor_aproximado = integracion_romberg(p, a, b)\n",
    "valor_aproximado"
   ]
  },
  {
   "cell_type": "markdown",
   "metadata": {},
   "source": [
    "Observemos cómo obtenemos una aproximación bastante buena (nótese que hemos fijado una tolerancia de $10^{-4}$):"
   ]
  },
  {
   "cell_type": "code",
   "execution_count": 54,
   "metadata": {},
   "outputs": [
    {
     "data": {
      "text/latex": [
       "$\\displaystyle 1.50389969348907 \\cdot 10^{-5}$"
      ],
      "text/plain": [
       "1.50389969348907e-5"
      ]
     },
     "execution_count": 54,
     "metadata": {},
     "output_type": "execute_result"
    }
   ],
   "source": [
    "error_romberg = abs(valor_exacto - valor_aproximado)\n",
    "error_romberg"
   ]
  },
  {
   "cell_type": "markdown",
   "metadata": {},
   "source": [
    "###### Algoritmo de integración adaptativa"
   ]
  },
  {
   "cell_type": "code",
   "execution_count": 55,
   "metadata": {},
   "outputs": [],
   "source": [
    "def formula_simpson(f, a, b):\n",
    "    m = (a+b)/2\n",
    "    return (b-a)/6*(f(a)+4*f(m)+f(b))\n",
    "\n",
    "def integracion_adaptativa(f, a, b, e=10**(-3)):\n",
    "    m = (a+b)/2\n",
    "    s = formula_simpson(f, a, m) + formula_simpson(f, m, b)\n",
    "    return s if ( abs(s-formula_simpson(f, a, b)) < 10*e ) \\\n",
    "        else integracion_adaptativa(f, a, m, e/2) + integracion_adaptativa(f, m, b, e/2)"
   ]
  },
  {
   "cell_type": "markdown",
   "metadata": {},
   "source": [
    "Veamos la forma que tiene nuestro polinomio, y así podremos predecir en cierto modo cómo se comportará el algoritmo de integración adaptativa."
   ]
  },
  {
   "cell_type": "code",
   "execution_count": 56,
   "metadata": {},
   "outputs": [
    {
     "data": {
      "text/plain": [
       "19173952.00021446"
      ]
     },
     "execution_count": 56,
     "metadata": {},
     "output_type": "execute_result"
    }
   ],
   "source": [
    "valor_aproximado = integracion_adaptativa(p, a, b)\n",
    "valor_aproximado"
   ]
  },
  {
   "cell_type": "markdown",
   "metadata": {},
   "source": [
    "Para hacer plot incluyendo las subdivisiones del algoritmo de integración adaptativa, usaremos una ligera variación de la función en la que usaremos una variable de scope `global`. Es muy importante puntualizar que esta no es una buena práctica de diseño en Python, y que es posible crear una función equivalente sin necesidad de usar `global`, pero sería un tanto ilegible (en otros lenguajes como C o Java sería más sencillo, pues bastaría pasar parámetros por referencia). Por tanto, lo siguiente colmará nuestro propósito sobradamente. Ejecutaremos esta función modificada que, además, almacena estas subdivisiones en el vector `subdivisiones`:"
   ]
  },
  {
   "cell_type": "code",
   "execution_count": 57,
   "metadata": {},
   "outputs": [],
   "source": [
    "subdivisiones = []\n",
    "def integracion_adaptativa_s(f, a, b, e=10**(-3)):\n",
    "    global subdivisiones\n",
    "    m = (a+b)/2\n",
    "    s = formula_simpson(f, a, m) + formula_simpson(f, m, b)\n",
    "    if ( abs(s-formula_simpson(f, a, b)) < 10*e ):\n",
    "        return s\n",
    "    else:\n",
    "        subdivisiones.append(m)\n",
    "        return integracion_adaptativa_s(f, a, m, e/2) + integracion_adaptativa_s(f, m, b, e/2)"
   ]
  },
  {
   "cell_type": "markdown",
   "metadata": {},
   "source": [
    "El resultado es el mismo:"
   ]
  },
  {
   "cell_type": "code",
   "execution_count": 58,
   "metadata": {},
   "outputs": [
    {
     "data": {
      "text/plain": [
       "19173952.00021446"
      ]
     },
     "execution_count": 58,
     "metadata": {},
     "output_type": "execute_result"
    }
   ],
   "source": [
    "integracion_adaptativa_s(p, a, b)"
   ]
  },
  {
   "cell_type": "markdown",
   "metadata": {},
   "source": [
    "Pero, además, tenemos datos en `subdivisiones`:"
   ]
  },
  {
   "cell_type": "code",
   "execution_count": 59,
   "metadata": {},
   "outputs": [
    {
     "data": {
      "text/plain": [
       "[4.5,\n",
       " 2.75,\n",
       " 1.875,\n",
       " 1.4375,\n",
       " 1.21875,\n",
       " 1.109375,\n",
       " 1.328125,\n",
       " 1.65625,\n",
       " 1.546875,\n",
       " 1.6015625,\n",
       " 1.765625,\n",
       " 1.7109375,\n",
       " 1.8203125,\n",
       " 2.3125,\n",
       " 2.09375,\n",
       " 1.984375,\n",
       " 1.9296875,\n",
       " 2.0390625,\n",
       " 2.203125,\n",
       " 2.1484375,\n",
       " 2.2578125,\n",
       " 2.53125,\n",
       " 2.421875,\n",
       " 2.3671875,\n",
       " 2.4765625,\n",
       " 2.640625,\n",
       " 2.5859375,\n",
       " 2.6953125,\n",
       " 3.625,\n",
       " 3.1875,\n",
       " 2.96875,\n",
       " 2.859375,\n",
       " 2.8046875,\n",
       " 2.9140625,\n",
       " 3.078125,\n",
       " 3.0234375,\n",
       " 3.1328125,\n",
       " 3.40625,\n",
       " 3.296875,\n",
       " 3.2421875,\n",
       " 3.3515625,\n",
       " 3.515625,\n",
       " 3.4609375,\n",
       " 3.5703125,\n",
       " 4.0625,\n",
       " 3.84375,\n",
       " 3.734375,\n",
       " 3.6796875,\n",
       " 3.7890625,\n",
       " 3.953125,\n",
       " 3.8984375,\n",
       " 4.0078125,\n",
       " 4.28125,\n",
       " 4.171875,\n",
       " 4.1171875,\n",
       " 4.08984375,\n",
       " 4.14453125,\n",
       " 4.2265625,\n",
       " 4.19921875,\n",
       " 4.25390625,\n",
       " 4.390625,\n",
       " 4.3359375,\n",
       " 4.30859375,\n",
       " 4.36328125,\n",
       " 4.4453125,\n",
       " 4.41796875,\n",
       " 4.47265625,\n",
       " 6.25,\n",
       " 5.375,\n",
       " 4.9375,\n",
       " 4.71875,\n",
       " 4.609375,\n",
       " 4.5546875,\n",
       " 4.52734375,\n",
       " 4.58203125,\n",
       " 4.6640625,\n",
       " 4.63671875,\n",
       " 4.69140625,\n",
       " 4.828125,\n",
       " 4.7734375,\n",
       " 4.74609375,\n",
       " 4.80078125,\n",
       " 4.8828125,\n",
       " 4.85546875,\n",
       " 4.91015625,\n",
       " 5.15625,\n",
       " 5.046875,\n",
       " 4.9921875,\n",
       " 4.96484375,\n",
       " 5.01953125,\n",
       " 5.1015625,\n",
       " 5.07421875,\n",
       " 5.12890625,\n",
       " 5.265625,\n",
       " 5.2109375,\n",
       " 5.18359375,\n",
       " 5.23828125,\n",
       " 5.3203125,\n",
       " 5.29296875,\n",
       " 5.34765625,\n",
       " 5.8125,\n",
       " 5.59375,\n",
       " 5.484375,\n",
       " 5.4296875,\n",
       " 5.40234375,\n",
       " 5.45703125,\n",
       " 5.5390625,\n",
       " 5.51171875,\n",
       " 5.56640625,\n",
       " 5.703125,\n",
       " 5.6484375,\n",
       " 5.62109375,\n",
       " 5.67578125,\n",
       " 5.7578125,\n",
       " 5.73046875,\n",
       " 5.78515625,\n",
       " 6.03125,\n",
       " 5.921875,\n",
       " 5.8671875,\n",
       " 5.83984375,\n",
       " 5.89453125,\n",
       " 5.9765625,\n",
       " 5.94921875,\n",
       " 6.00390625,\n",
       " 6.140625,\n",
       " 6.0859375,\n",
       " 6.05859375,\n",
       " 6.11328125,\n",
       " 6.1953125,\n",
       " 6.16796875,\n",
       " 6.22265625,\n",
       " 7.125,\n",
       " 6.6875,\n",
       " 6.46875,\n",
       " 6.359375,\n",
       " 6.3046875,\n",
       " 6.27734375,\n",
       " 6.33203125,\n",
       " 6.4140625,\n",
       " 6.38671875,\n",
       " 6.44140625,\n",
       " 6.578125,\n",
       " 6.5234375,\n",
       " 6.49609375,\n",
       " 6.55078125,\n",
       " 6.6328125,\n",
       " 6.60546875,\n",
       " 6.66015625,\n",
       " 6.90625,\n",
       " 6.796875,\n",
       " 6.7421875,\n",
       " 6.71484375,\n",
       " 6.76953125,\n",
       " 6.8515625,\n",
       " 6.82421875,\n",
       " 6.87890625,\n",
       " 7.015625,\n",
       " 6.9609375,\n",
       " 6.93359375,\n",
       " 6.98828125,\n",
       " 7.0703125,\n",
       " 7.04296875,\n",
       " 7.09765625,\n",
       " 7.5625,\n",
       " 7.34375,\n",
       " 7.234375,\n",
       " 7.1796875,\n",
       " 7.15234375,\n",
       " 7.20703125,\n",
       " 7.2890625,\n",
       " 7.26171875,\n",
       " 7.31640625,\n",
       " 7.453125,\n",
       " 7.3984375,\n",
       " 7.37109375,\n",
       " 7.42578125,\n",
       " 7.5078125,\n",
       " 7.48046875,\n",
       " 7.53515625,\n",
       " 7.78125,\n",
       " 7.671875,\n",
       " 7.6171875,\n",
       " 7.58984375,\n",
       " 7.64453125,\n",
       " 7.7265625,\n",
       " 7.69921875,\n",
       " 7.75390625,\n",
       " 7.890625,\n",
       " 7.8359375,\n",
       " 7.80859375,\n",
       " 7.86328125,\n",
       " 7.9453125,\n",
       " 7.91796875,\n",
       " 7.97265625]"
      ]
     },
     "execution_count": 59,
     "metadata": {},
     "output_type": "execute_result"
    }
   ],
   "source": [
    "subdivisiones"
   ]
  },
  {
   "cell_type": "markdown",
   "metadata": {},
   "source": [
    "Haremos plot de la función junto con las subdivisiones del algoritmo de integración adaptativa:"
   ]
  },
  {
   "cell_type": "code",
   "execution_count": 60,
   "metadata": {},
   "outputs": [
    {
     "data": {
      "image/png": "[encoded data removed]",
      "text/plain": [
       "<Figure size 576x576 with 1 Axes>"
      ]
     },
     "metadata": {
      "needs_background": "light"
     },
     "output_type": "display_data"
    }
   ],
   "source": [
    "nxx = 100\n",
    "xx = np.linspace(float(a),float(b),nxx)\n",
    "yy = p(xx)\n",
    "fig,ax = plt.subplots(figsize=(8,8))\n",
    "ax.plot(xx,yy,'k',label='p(x)')\n",
    "for subd in subdivisiones:\n",
    "    ax.plot(subd,-12**5,'r|')\n",
    "ax.plot(-1,0,'r|', label='subdivisiones')\n",
    "ax.legend(loc='upper left')\n",
    "ax.set_xlim([a,b])\n",
    "ax.set_xlabel('$x$',fontsize=18)\n",
    "ax.set_ylabel('$y$',fontsize=18)\n",
    "ax.set_title('Integración Romberg de p(x)');"
   ]
  },
  {
   "cell_type": "markdown",
   "metadata": {},
   "source": [
    "Vemos cómo hay más subdivisiones donde más \"cambia\" $p$."
   ]
  },
  {
   "cell_type": "code",
   "execution_count": 61,
   "metadata": {},
   "outputs": [
    {
     "data": {
      "text/latex": [
       "$\\displaystyle 0.000214461237192154$"
      ],
      "text/plain": [
       "0.000214461237192154"
      ]
     },
     "execution_count": 61,
     "metadata": {},
     "output_type": "execute_result"
    }
   ],
   "source": [
    "error_adaptativa = abs(valor_exacto - valor_aproximado)\n",
    "error_adaptativa"
   ]
  },
  {
   "cell_type": "markdown",
   "metadata": {},
   "source": [
    "Vemos que el error de la aproximación por integración Romberg es menor que el de la aproximación por integración adaptativa con nuestros criterios de tolerancia y $epsilon$, respectivamente para cada uno de ellos:"
   ]
  },
  {
   "cell_type": "code",
   "execution_count": 62,
   "metadata": {},
   "outputs": [
    {
     "data": {
      "text/latex": [
       "$\\displaystyle \\text{True}$"
      ],
      "text/plain": [
       "True"
      ]
     },
     "execution_count": 62,
     "metadata": {},
     "output_type": "execute_result"
    }
   ],
   "source": [
    "error_romberg < error_adaptativa"
   ]
  }
 ],
 "metadata": {
  "kernelspec": {
   "display_name": "Python 3",
   "language": "python",
   "name": "python3"
  },
  "language_info": {
   "codemirror_mode": {
    "name": "ipython",
    "version": 3
   },
   "file_extension": ".py",
   "mimetype": "text/x-python",
   "name": "python",
   "nbconvert_exporter": "python",
   "pygments_lexer": "ipython3",
   "version": "3.6.9"
  }
 },
 "nbformat": 4,
 "nbformat_minor": 4
}
