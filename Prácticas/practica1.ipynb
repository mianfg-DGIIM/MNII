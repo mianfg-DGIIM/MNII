{
 "cells": [
  {
   "cell_type": "markdown",
   "metadata": {},
   "source": [
    "# Práctica 1. Resolución numérica de ecuaciones no lineales\n",
    "\n",
    "> Alumno: Miguel Ángel Fernández Gutiérrez\n",
    ">\n",
    "> 3º Doble Grado en Ingeniería Informática y Matemáticas, 2019/2020\n",
    "\n",
    "###### Importar módulos de Python necesarios"
   ]
  },
  {
   "cell_type": "code",
   "execution_count": 1,
   "metadata": {},
   "outputs": [],
   "source": [
    "import numpy as np\n",
    "import sympy as sp\n",
    "import matplotlib.pyplot as plt\n",
    "from numpy import sign\n",
    "from decimal import *"
   ]
  },
  {
   "cell_type": "markdown",
   "metadata": {},
   "source": [
    "## Ejercicio 1\n",
    "\n",
    "Demuestre que la ecuación  $x^3+4 x^2=10$  tiene una única raíz en el intervalo $[1,2]$.  Aproxime dicha raíz con el método de bisección con al menos 3 cifras decimales exactas. ¿Cuántas iteraciones serán necesarias para conseguir 5 cifras decimales exactas?  Aproxime también la raíz con el método de Newton-Raphson partiendo del extremo adecuado hasta que la diferencia en valor absoluto, entre dos aproximaciones consecutivas sea  inferior a  $10^{-3}$."
   ]
  },
  {
   "cell_type": "markdown",
   "metadata": {},
   "source": [
    "### Solución al ejercicio 1"
   ]
  },
  {
   "cell_type": "markdown",
   "metadata": {},
   "source": [
    "Para comprobar que $x^3+4x=10$ tiene una única raíz en el intervalo $[1,2]$ definimos la función $$f:[1,2]\\longrightarrow\\mathbb{R}\\;\\;\\;\\;f(x)=x^3+4x-10\\;\\forall x \\in [1,2]$$\n",
    "\n",
    "Evidentemente, resolver la ecuación del enunciado es equivalente a ver las raíces de $f$. Usaremos el teorema de Bolzano para ver que tiene una única raíz en $[1,2]$. Para ello, evaluamos la función en los extremos."
   ]
  },
  {
   "cell_type": "code",
   "execution_count": 2,
   "metadata": {},
   "outputs": [],
   "source": [
    "x = sp.Symbol('x')\n",
    "def f0(x):\n",
    "    return x**3+4*x-10\n",
    "funciones = [f0]"
   ]
  },
  {
   "cell_type": "code",
   "execution_count": 3,
   "metadata": {},
   "outputs": [
    {
     "data": {
      "text/plain": [
       "(-5, 6)"
      ]
     },
     "execution_count": 3,
     "metadata": {},
     "output_type": "execute_result"
    }
   ],
   "source": [
    "f0(1), f0(2)"
   ]
  },
  {
   "cell_type": "markdown",
   "metadata": {},
   "source": [
    "Evidentemente vemos que $f(1)f(2)<0$, por lo que $f$ tiene al menos una raíz en $[1,2]$. Para ver que es única, podemos ver que la función $f$ es creciente en $[1,2]$, para lo que basta ver que el signo de su derivada es siempre positivo$$f'(x)=3x^2+4>0\\;\\forall x \\in [1,2]$$"
   ]
  },
  {
   "cell_type": "markdown",
   "metadata": {},
   "source": [
    "Ahora aproximaremos dicha raíz con el método de bisección.\n",
    "\n",
    "Antes hacemos un método para encontrar la raíz exacta haciendo uso de `sympy`.\n",
    "\n",
    "###### Encontrar la raíz exacta en un intervalo"
   ]
  },
  {
   "cell_type": "code",
   "execution_count": 4,
   "metadata": {},
   "outputs": [],
   "source": [
    "def solucion_exacta(f, a=-sp.oo, b=sp.oo, cifras=None):\n",
    "    \"\"\"\n",
    "    Encontrar la raíz exacta de f en un intervalo [a,b]\n",
    "    \n",
    "    Importante: es necesario que haya una única raíz en el intervalo.\n",
    "    En caso contrario, se retornará una de ellas.\n",
    "    \n",
    "    En caso de que no haya raíces en el intervalo o sympy no pueda\n",
    "    encontrar la raíz se retornará None\n",
    "    \n",
    "    Si no se especifica en un intervalo, se tomará (-oo,+oo)\n",
    "    \n",
    "    Parameters\n",
    "    ----------\n",
    "    f : function\n",
    "        Función de la que encontrar la raíz\n",
    "    a: float\n",
    "        Extremo inferior\n",
    "    b: float\n",
    "        Extremo superior\n",
    "        \n",
    "    Return\n",
    "    ------\n",
    "    \"\"\"\n",
    "    \n",
    "    x = sp.Symbol('x')\n",
    "    try:\n",
    "        sol_exact = sp.solve(f(x), x)\n",
    "    except:\n",
    "        sol_exact = []\n",
    "    \n",
    "    for sol in sol_exact:\n",
    "        if sol.is_real:\n",
    "            if sol >= a and sol <= b:\n",
    "                print(\"Solución exacta en decimal:\", sol.evalf())\n",
    "                if cifras:\n",
    "                    print(\"Solución exacta con\", cifras, \"cifras significativas:\", sol.evalf(n=cifras+1))\n",
    "                return sol\n",
    "    \n",
    "    print(\"sympy no ha podido encontrar la solución exacta\")"
   ]
  },
  {
   "cell_type": "markdown",
   "metadata": {},
   "source": [
    "Ahora implementamos el método de bisección.\n",
    "\n",
    "###### Algoritmo de bisección"
   ]
  },
  {
   "cell_type": "code",
   "execution_count": 5,
   "metadata": {},
   "outputs": [],
   "source": [
    "def biseccion(f, a, b, maxiter=100, tol=10**(-5), prec=10**(-3), cifras=0):\n",
    "    # si no se especifican el número de cifras decimales a mostrar, se hará\n",
    "    # para que coincida con la precisión, es decir, si la precisión es\n",
    "    # 10**-n, el número de cifras a mostrar será n\n",
    "    # en caso de que la precisión no sea una potencia de 10, se usará\n",
    "    # la potencia de 10 inmediatamente inferior\n",
    "    if cifras <= 0:\n",
    "        cifras = int(np.ceil(abs(np.log10(prec))))\n",
    "    \n",
    "    exit = ''\n",
    "    \n",
    "    niter = 0\n",
    "    while niter < maxiter:\n",
    "        niter += 1\n",
    "        c = (a+b)/2\n",
    "        if abs(f(c)) < prec:\n",
    "            exit = 'precisión'\n",
    "            break\n",
    "        if sign(f(a)) != sign(f(c)):\n",
    "            b = c\n",
    "        else:\n",
    "            a = c\n",
    "        if b-a < tol:\n",
    "            exit = 'tolerancia'\n",
    "            break\n",
    "    \n",
    "    print('maxiter={}, tol={}, prec={}, cifras={}'.format(maxiter, tol, prec, cifras))\n",
    "    \n",
    "    if exit == 'precisión':\n",
    "        print('Se ha alcanzado la precisión deseada')\n",
    "    elif exit == 'tolerancia':\n",
    "        print('Se ha alcanzado la máxima tolerancia')\n",
    "    elif niter >= maxiter:\n",
    "        print('Se llegó al número máximo de iteraciones')\n",
    "    \n",
    "    print('Aproximación de la solución:', Decimal(c))\n",
    "    print('Aproximación de la solución con', cifras, 'cifras significativas:', round(Decimal(c), cifras))\n",
    "    print('Número de iteraciones:', niter)\n",
    "    \n",
    "    return c"
   ]
  },
  {
   "cell_type": "markdown",
   "metadata": {},
   "source": [
    "Aproximamos dicha raíz con el método de bisección con al menos 3 cifras decimales exactas, es decir, con una precisión de al menos $10^{-3}$."
   ]
  },
  {
   "cell_type": "code",
   "execution_count": 6,
   "metadata": {},
   "outputs": [
    {
     "name": "stdout",
     "output_type": "stream",
     "text": [
      "maxiter=100, tol=1e-05, prec=0.001, cifras=3\n",
      "Se ha alcanzado la precisión deseada\n",
      "Aproximación de la solución: 1.5567626953125\n",
      "Aproximación de la solución con 3 cifras significativas: 1.557\n",
      "Número de iteraciones: 13\n"
     ]
    },
    {
     "data": {
      "text/plain": [
       "1.5567626953125"
      ]
     },
     "execution_count": 6,
     "metadata": {},
     "output_type": "execute_result"
    }
   ],
   "source": [
    "biseccion(f0, 1, 2, prec=10**(-3))"
   ]
  },
  {
   "cell_type": "markdown",
   "metadata": {},
   "source": [
    "Vemos que, en efecto, la solución exacta coincide al menos en tres cifras significativas, como queríamos."
   ]
  },
  {
   "cell_type": "code",
   "execution_count": 7,
   "metadata": {},
   "outputs": [
    {
     "name": "stdout",
     "output_type": "stream",
     "text": [
      "Solución exacta en decimal: 1.55677326439421\n",
      "Solución exacta con 3 cifras significativas: 1.557\n"
     ]
    },
    {
     "data": {
      "text/latex": [
       "$\\displaystyle - \\frac{4}{3 \\sqrt[3]{5 + \\frac{\\sqrt{2217}}{9}}} + \\sqrt[3]{5 + \\frac{\\sqrt{2217}}{9}}$"
      ],
      "text/plain": [
       "-4/(3*(5 + sqrt(2217)/9)**(1/3)) + (5 + sqrt(2217)/9)**(1/3)"
      ]
     },
     "execution_count": 7,
     "metadata": {},
     "output_type": "execute_result"
    }
   ],
   "source": [
    "solucion_exacta(f0, 1, 2, cifras=3)"
   ]
  },
  {
   "cell_type": "markdown",
   "metadata": {},
   "source": [
    "Hemos visto que para conseguir 3 cifras exactas hemos necesitado 13 iteraciones. Intentaremos hacer una predicción del número de iteraciones necesarias para conseguir 5 cifras decimales exactas. Sabemos que la cota del error de bisección es de $$|e_n|=|x_n-s| \\leq \\frac{1}{2^{n-1}}(b-a)$$\n",
    "Despejando vemos que, para conseguir 5 cifras decimales exactas debe ser $|e_n|<10^{-5}$. Despejando obtenemos que debe ser $n\\leq 17$. Es decir, que en 17 iteraciones habremos alcanzado la precisión deseada. Veamos si esto es cierto:"
   ]
  },
  {
   "cell_type": "code",
   "execution_count": 8,
   "metadata": {},
   "outputs": [
    {
     "name": "stdout",
     "output_type": "stream",
     "text": [
      "maxiter=100, tol=1e-05, prec=1e-05, cifras=5\n",
      "Se ha alcanzado la máxima tolerancia\n",
      "Aproximación de la solución: 1.55677032470703125\n",
      "Aproximación de la solución con 5 cifras significativas: 1.55677\n",
      "Número de iteraciones: 17\n"
     ]
    },
    {
     "data": {
      "text/plain": [
       "1.5567703247070312"
      ]
     },
     "execution_count": 8,
     "metadata": {},
     "output_type": "execute_result"
    }
   ],
   "source": [
    "biseccion(f0, 1, 2, prec=10**(-5))"
   ]
  },
  {
   "cell_type": "code",
   "execution_count": 9,
   "metadata": {},
   "outputs": [
    {
     "name": "stdout",
     "output_type": "stream",
     "text": [
      "Solución exacta en decimal: 1.55677326439421\n",
      "Solución exacta con 5 cifras significativas: 1.55677\n"
     ]
    },
    {
     "data": {
      "text/latex": [
       "$\\displaystyle - \\frac{4}{3 \\sqrt[3]{5 + \\frac{\\sqrt{2217}}{9}}} + \\sqrt[3]{5 + \\frac{\\sqrt{2217}}{9}}$"
      ],
      "text/plain": [
       "-4/(3*(5 + sqrt(2217)/9)**(1/3)) + (5 + sqrt(2217)/9)**(1/3)"
      ]
     },
     "execution_count": 9,
     "metadata": {},
     "output_type": "execute_result"
    }
   ],
   "source": [
    "solucion_exacta(f0, 1, 2, cifras=5)"
   ]
  },
  {
   "cell_type": "markdown",
   "metadata": {},
   "source": [
    "###### Algoritmo de Newton-Raphson"
   ]
  },
  {
   "cell_type": "code",
   "execution_count": 10,
   "metadata": {},
   "outputs": [],
   "source": [
    "def newton_raphson(f, df, x0, a=-sp.oo, b=sp.oo, maxiter=100, tol=10**(-5), prec=10**(-3), cifras=0):\n",
    "    # si no se especifican el número de cifras decimales a mostrar, se hará\n",
    "    # para que coincida con la precisión, es decir, si la precisión es\n",
    "    # 10**-n, el número de cifras a mostrar será n\n",
    "    # en caso de que la precisión no sea una potencia de 10, se usará\n",
    "    # la potencia de 10 inmediatamente inferior\n",
    "    if cifras <= 0:\n",
    "        cifras = int(np.ceil(abs(np.log10(prec))))\n",
    "    \n",
    "    exit = ''\n",
    "    \n",
    "    niter = 0\n",
    "    while niter < maxiter:\n",
    "        niter += 1\n",
    "        x1 = x0 - f(x0)/df(x0)\n",
    "        if abs(f(x1)) < prec:\n",
    "            exit = 'precisión'\n",
    "            break\n",
    "        if abs(x1-x0) < tol:\n",
    "            exit = 'tolerancia'\n",
    "            break\n",
    "        x0 = x1\n",
    "    \n",
    "    print('maxiter={}, tol={}, prec={}, cifras={}'.format(maxiter, tol, prec, cifras))\n",
    "    \n",
    "    if exit == 'precisión':\n",
    "        print('Se ha alcanzado la precisión deseada')\n",
    "    elif exit == 'tolerancia':\n",
    "        print('Se ha alcanzado la máxima tolerancia')\n",
    "    elif niter >= maxiter:\n",
    "        print('Se llegó al número máximo de iteraciones')\n",
    "    \n",
    "    print('Aproximación de la solución:', Decimal(x1))\n",
    "    print('Aproximación de la solución con', cifras, 'cifras significativas:', round(Decimal(x1), cifras))\n",
    "    print('Número de iteraciones:', niter)\n",
    "    \n",
    "    return x1"
   ]
  },
  {
   "cell_type": "markdown",
   "metadata": {},
   "source": [
    "Ahora resolvemos con Newton-Raphson, hasta que el error entre dos aproximaciones consecutivas sea inferior a $10^{-3}$."
   ]
  },
  {
   "cell_type": "code",
   "execution_count": 11,
   "metadata": {},
   "outputs": [
    {
     "data": {
      "text/latex": [
       "$\\displaystyle 3 x^{2} + 4$"
      ],
      "text/plain": [
       "3*x**2 + 4"
      ]
     },
     "execution_count": 11,
     "metadata": {},
     "output_type": "execute_result"
    }
   ],
   "source": [
    "sp.diff(x**3+4*x-10, x)"
   ]
  },
  {
   "cell_type": "code",
   "execution_count": 12,
   "metadata": {},
   "outputs": [],
   "source": [
    "def df0(x):\n",
    "    return 3*x**2+4"
   ]
  },
  {
   "cell_type": "code",
   "execution_count": 13,
   "metadata": {},
   "outputs": [
    {
     "name": "stdout",
     "output_type": "stream",
     "text": [
      "maxiter=100, tol=1e-05, prec=0.001, cifras=3\n",
      "Se ha alcanzado la precisión deseada\n",
      "Aproximación de la solución: 1.5567740374915424172996836205129511654376983642578125\n",
      "Aproximación de la solución con 3 cifras significativas: 1.557\n",
      "Número de iteraciones: 2\n"
     ]
    },
    {
     "data": {
      "text/plain": [
       "1.5567740374915424"
      ]
     },
     "execution_count": 13,
     "metadata": {},
     "output_type": "execute_result"
    }
   ],
   "source": [
    "newton_raphson(f0, df0, 1.5, prec=10**(-3))"
   ]
  },
  {
   "cell_type": "code",
   "execution_count": 14,
   "metadata": {},
   "outputs": [
    {
     "name": "stdout",
     "output_type": "stream",
     "text": [
      "Solución exacta en decimal: 1.55677326439421\n",
      "Solución exacta con 3 cifras significativas: 1.557\n"
     ]
    },
    {
     "data": {
      "text/latex": [
       "$\\displaystyle - \\frac{4}{3 \\sqrt[3]{5 + \\frac{\\sqrt{2217}}{9}}} + \\sqrt[3]{5 + \\frac{\\sqrt{2217}}{9}}$"
      ],
      "text/plain": [
       "-4/(3*(5 + sqrt(2217)/9)**(1/3)) + (5 + sqrt(2217)/9)**(1/3)"
      ]
     },
     "execution_count": 14,
     "metadata": {},
     "output_type": "execute_result"
    }
   ],
   "source": [
    "solucion_exacta(f0, cifras=3)"
   ]
  },
  {
   "cell_type": "markdown",
   "metadata": {},
   "source": [
    "## Ejercicio 2\n",
    "\n",
    "Encuentre una aproximación de la raíz cúbica de 25 con dos decimales exactos, usando el algoritmo de bisección."
   ]
  },
  {
   "cell_type": "markdown",
   "metadata": {},
   "source": [
    "### Solución al ejercicio 2\n",
    "\n",
    "Ejecutamos el [algoritmo de Bisección](#Algoritmo-de-bisección) programado anteriormente. Para encontrar la raíz cúbica de 25, basta encontrar la raíz de la función$$f(x)=x^3-25$$\n",
    "Usando el teorema de Bolzano vemos que hay una raíz en el intervalo $[2,3]$. Además, vemos que la derivada es siempre positiva en dicho intervalo, por lo que la raíz es única. Ahora procederemos a aplicar bisección en $[2,3]$ para obtener dos cifras decimales exactas."
   ]
  },
  {
   "cell_type": "code",
   "execution_count": 15,
   "metadata": {},
   "outputs": [],
   "source": [
    "def f1(x):\n",
    "    return x**3-25\n",
    "funciones.append(f1)"
   ]
  },
  {
   "cell_type": "code",
   "execution_count": 16,
   "metadata": {
    "scrolled": true
   },
   "outputs": [
    {
     "name": "stdout",
     "output_type": "stream",
     "text": [
      "maxiter=100, tol=1e-05, prec=0.001, cifras=2\n",
      "Se ha alcanzado la precisión deseada\n",
      "Aproximación de la solución: 2.92401123046875\n",
      "Aproximación de la solución con 2 cifras significativas: 2.92\n",
      "Número de iteraciones: 14\n"
     ]
    },
    {
     "data": {
      "text/plain": [
       "2.92401123046875"
      ]
     },
     "execution_count": 16,
     "metadata": {},
     "output_type": "execute_result"
    }
   ],
   "source": [
    "biseccion(f1, 2, 3, cifras=2)"
   ]
  },
  {
   "cell_type": "code",
   "execution_count": 17,
   "metadata": {},
   "outputs": [
    {
     "name": "stdout",
     "output_type": "stream",
     "text": [
      "Solución exacta en decimal: 2.92401773821287\n",
      "Solución exacta con 2 cifras significativas: 2.92\n"
     ]
    },
    {
     "data": {
      "text/latex": [
       "$\\displaystyle 5^{\\frac{2}{3}}$"
      ],
      "text/plain": [
       "5**(2/3)"
      ]
     },
     "execution_count": 17,
     "metadata": {},
     "output_type": "execute_result"
    }
   ],
   "source": [
    "solucion_exacta(f1, 2, 3, cifras=2)"
   ]
  },
  {
   "cell_type": "markdown",
   "metadata": {},
   "source": [
    "## Ejercicio 3\n",
    "\n",
    "Use el método de Newton-Raphson para aproximar las soluciones de las siguientes ecuaciones con tolerancia $10^{-5}$, partiendo de un valor adecuado, próximo a cada una de ellas en cada caso.\n",
    "\n",
    "1. $x^3-x-1 = 0$ en $[1,2]$.\n",
    "2. $3x=2+x^2-e^x$.\n",
    "3. $x^2+10 \\cos(x)+x=0$."
   ]
  },
  {
   "cell_type": "markdown",
   "metadata": {},
   "source": [
    "### Solución al ejercicio 3\n",
    "\n",
    "Usamos el método de Newton-Rhapson definido la solución al ejercicio anterior.\n",
    "\n",
    "#### Apartado 3.1\n",
    "\n",
    "Estudiaremos las raíces de $$f(x)=x^3-x-1$$partiendo de $x_0=1.3$ en el intervalo $[1,2]$."
   ]
  },
  {
   "cell_type": "code",
   "execution_count": 18,
   "metadata": {},
   "outputs": [],
   "source": [
    "def f2(x):\n",
    "    return x**3-x-1\n",
    "funciones.append(f2)"
   ]
  },
  {
   "cell_type": "code",
   "execution_count": 19,
   "metadata": {},
   "outputs": [
    {
     "data": {
      "text/latex": [
       "$\\displaystyle 3 x^{2} - 1$"
      ],
      "text/plain": [
       "3*x**2 - 1"
      ]
     },
     "execution_count": 19,
     "metadata": {},
     "output_type": "execute_result"
    }
   ],
   "source": [
    "sp.diff(x**3-x-1, x)"
   ]
  },
  {
   "cell_type": "code",
   "execution_count": 20,
   "metadata": {},
   "outputs": [],
   "source": [
    "def df2(x):\n",
    "    return 3*x**2-1"
   ]
  },
  {
   "cell_type": "code",
   "execution_count": 21,
   "metadata": {},
   "outputs": [
    {
     "name": "stdout",
     "output_type": "stream",
     "text": [
      "maxiter=100, tol=1e-05, prec=0.001, cifras=3\n",
      "Se ha alcanzado la precisión deseada\n",
      "Aproximación de la solución: 1.3247187886152571589803983442834578454494476318359375\n",
      "Aproximación de la solución con 3 cifras significativas: 1.325\n",
      "Número de iteraciones: 20\n"
     ]
    },
    {
     "data": {
      "text/plain": [
       "1.3247187886152572"
      ]
     },
     "execution_count": 21,
     "metadata": {},
     "output_type": "execute_result"
    }
   ],
   "source": [
    "newton_raphson(f2, df2, 0, 1, 2, tol=10**(-5))"
   ]
  },
  {
   "cell_type": "code",
   "execution_count": 22,
   "metadata": {},
   "outputs": [
    {
     "name": "stdout",
     "output_type": "stream",
     "text": [
      "Solución exacta en decimal: 1.32471795724475\n"
     ]
    },
    {
     "data": {
      "text/latex": [
       "$\\displaystyle \\frac{1}{3 \\sqrt[3]{\\frac{\\sqrt{69}}{18} + \\frac{1}{2}}} + \\sqrt[3]{\\frac{\\sqrt{69}}{18} + \\frac{1}{2}}$"
      ],
      "text/plain": [
       "1/(3*(sqrt(69)/18 + 1/2)**(1/3)) + (sqrt(69)/18 + 1/2)**(1/3)"
      ]
     },
     "execution_count": 22,
     "metadata": {},
     "output_type": "execute_result"
    }
   ],
   "source": [
    "solucion_exacta(f2, 1, 2)"
   ]
  },
  {
   "cell_type": "markdown",
   "metadata": {},
   "source": [
    "#### Apartado 3.2\n",
    "\n",
    "Estudiaremos las raíces de$$f(x)=3x-2-x^2+e^x$$partiendo de $x_0=0$, sin especificar el intervalo."
   ]
  },
  {
   "cell_type": "code",
   "execution_count": 23,
   "metadata": {},
   "outputs": [],
   "source": [
    "def f3(x):\n",
    "    return 3*x-2-x**2+np.exp(x)\n",
    "funciones.append(f3)"
   ]
  },
  {
   "cell_type": "code",
   "execution_count": 24,
   "metadata": {},
   "outputs": [
    {
     "data": {
      "text/latex": [
       "$\\displaystyle - 2 x + e^{x} + 3$"
      ],
      "text/plain": [
       "-2*x + exp(x) + 3"
      ]
     },
     "execution_count": 24,
     "metadata": {},
     "output_type": "execute_result"
    }
   ],
   "source": [
    "sp.diff(3*x-2-x**2+sp.exp(x),x)"
   ]
  },
  {
   "cell_type": "code",
   "execution_count": 25,
   "metadata": {},
   "outputs": [],
   "source": [
    "def df3(x):\n",
    "    return -2*x+np.exp(x)+3"
   ]
  },
  {
   "cell_type": "code",
   "execution_count": 26,
   "metadata": {
    "scrolled": true
   },
   "outputs": [
    {
     "name": "stdout",
     "output_type": "stream",
     "text": [
      "maxiter=100, tol=1e-05, prec=0.001, cifras=3\n",
      "Se ha alcanzado la precisión deseada\n",
      "Aproximación de la solución: 0.257524945045739972471210421645082533359527587890625\n",
      "Aproximación de la solución con 3 cifras significativas: 0.258\n",
      "Número de iteraciones: 2\n"
     ]
    },
    {
     "data": {
      "text/plain": [
       "0.25752494504574"
      ]
     },
     "execution_count": 26,
     "metadata": {},
     "output_type": "execute_result"
    }
   ],
   "source": [
    "newton_raphson(f3, df3, 0, tol=10**(-5))"
   ]
  },
  {
   "cell_type": "code",
   "execution_count": 27,
   "metadata": {},
   "outputs": [
    {
     "name": "stdout",
     "output_type": "stream",
     "text": [
      "sympy no ha podido encontrar la solución exacta\n"
     ]
    }
   ],
   "source": [
    "solucion_exacta(f3)"
   ]
  },
  {
   "cell_type": "markdown",
   "metadata": {},
   "source": [
    "#### Apartado 3.3\n",
    "\n",
    "Estudiaremos las raíces de$$f(x)=x^2+10 \\cos(x)+x$$partiendo de $x_0=-1$, sin especificar el intervalo."
   ]
  },
  {
   "cell_type": "code",
   "execution_count": 28,
   "metadata": {},
   "outputs": [],
   "source": [
    "def f4(x):\n",
    "    return x**2+10*np.cos(x)+x\n",
    "funciones.append(f4)"
   ]
  },
  {
   "cell_type": "code",
   "execution_count": 29,
   "metadata": {},
   "outputs": [
    {
     "data": {
      "text/latex": [
       "$\\displaystyle 2 x - 10 \\sin{\\left(x \\right)} + 1$"
      ],
      "text/plain": [
       "2*x - 10*sin(x) + 1"
      ]
     },
     "execution_count": 29,
     "metadata": {},
     "output_type": "execute_result"
    }
   ],
   "source": [
    "sp.diff(x**2+10*sp.cos(x)+x, x)"
   ]
  },
  {
   "cell_type": "code",
   "execution_count": 30,
   "metadata": {},
   "outputs": [],
   "source": [
    "def df4(x):\n",
    "    return 2*x-10*np.sin(x)+1"
   ]
  },
  {
   "cell_type": "code",
   "execution_count": 31,
   "metadata": {
    "scrolled": true
   },
   "outputs": [
    {
     "name": "stdout",
     "output_type": "stream",
     "text": [
      "maxiter=100, tol=1e-05, prec=0.001, cifras=3\n",
      "Se ha alcanzado la precisión deseada\n",
      "Aproximación de la solución: -1.6869398658093508469590915410663001239299774169921875\n",
      "Aproximación de la solución con 3 cifras significativas: -1.687\n",
      "Número de iteraciones: 3\n"
     ]
    },
    {
     "data": {
      "text/plain": [
       "-1.6869398658093508"
      ]
     },
     "execution_count": 31,
     "metadata": {},
     "output_type": "execute_result"
    }
   ],
   "source": [
    "newton_raphson(f4, df4, -1, tol=10**(-5))"
   ]
  },
  {
   "cell_type": "code",
   "execution_count": 32,
   "metadata": {},
   "outputs": [
    {
     "name": "stdout",
     "output_type": "stream",
     "text": [
      "sympy no ha podido encontrar la solución exacta\n"
     ]
    }
   ],
   "source": [
    "solucion_exacta(f4)"
   ]
  },
  {
   "cell_type": "markdown",
   "metadata": {},
   "source": [
    "## Ejercicio 4\n",
    "\n",
    "Para la función  $f(x)= 3 x^2+e^x-1$, \n",
    "\n",
    "1. encuentre, mediante el método de bisección una aproximación de la raíz en $[0,1]$ con, al menos, cuatro decimales exactos, y determine el número de iteraciones realizadas;\n",
    "2. encuentre, mediante el método de Newton-Raphson, una aproximación de la raíz en $[0,1]$ con una tolerancia de $10^{-4}$, partiendo de $x_0=0$, y determine el número de iteraciones realizadas.  "
   ]
  },
  {
   "cell_type": "markdown",
   "metadata": {},
   "source": [
    "### Solución al ejercicio 4"
   ]
  },
  {
   "cell_type": "markdown",
   "metadata": {},
   "source": [
    "#### Apartado 4.1"
   ]
  },
  {
   "cell_type": "code",
   "execution_count": 33,
   "metadata": {},
   "outputs": [],
   "source": [
    "def f5(x):\n",
    "    return 3*x**2+np.exp(x)-1\n",
    "funciones.append(f5)"
   ]
  },
  {
   "cell_type": "code",
   "execution_count": 34,
   "metadata": {},
   "outputs": [
    {
     "name": "stdout",
     "output_type": "stream",
     "text": [
      "maxiter=100, tol=1e-05, prec=1e-05, cifras=4\n",
      "Se ha alcanzado la precisión deseada\n",
      "Aproximación de la solución: 0.00000762939453125\n",
      "Aproximación de la solución con 4 cifras significativas: 0.0000\n",
      "Número de iteraciones: 17\n"
     ]
    },
    {
     "data": {
      "text/plain": [
       "7.62939453125e-06"
      ]
     },
     "execution_count": 34,
     "metadata": {},
     "output_type": "execute_result"
    }
   ],
   "source": [
    "biseccion(f5, 0, 1, prec=10**(-5), cifras=4)"
   ]
  },
  {
   "cell_type": "code",
   "execution_count": 35,
   "metadata": {},
   "outputs": [
    {
     "name": "stdout",
     "output_type": "stream",
     "text": [
      "sympy no ha podido encontrar la solución exacta\n"
     ]
    }
   ],
   "source": [
    "solucion_exacta(lambda x: 3*x**2+sp.exp(x)-1, 0, 1)"
   ]
  },
  {
   "cell_type": "markdown",
   "metadata": {},
   "source": [
    "Aunque no la encuentre es fácil ver que la solución exacta es $0$."
   ]
  },
  {
   "cell_type": "markdown",
   "metadata": {},
   "source": [
    "#### Apartado 4.2"
   ]
  },
  {
   "cell_type": "code",
   "execution_count": 36,
   "metadata": {},
   "outputs": [
    {
     "data": {
      "text/latex": [
       "$\\displaystyle 6 x + e^{x}$"
      ],
      "text/plain": [
       "6*x + exp(x)"
      ]
     },
     "execution_count": 36,
     "metadata": {},
     "output_type": "execute_result"
    }
   ],
   "source": [
    "sp.diff(3*x**2+sp.exp(x)-1, x)"
   ]
  },
  {
   "cell_type": "code",
   "execution_count": 37,
   "metadata": {},
   "outputs": [],
   "source": [
    "def df5(x):\n",
    "    return 6*x+np.exp(x)"
   ]
  },
  {
   "cell_type": "code",
   "execution_count": 38,
   "metadata": {},
   "outputs": [
    {
     "name": "stdout",
     "output_type": "stream",
     "text": [
      "maxiter=100, tol=0.0001, prec=0.001, cifras=3\n",
      "Se ha alcanzado la precisión deseada\n",
      "Aproximación de la solución: 0\n",
      "Aproximación de la solución con 3 cifras significativas: 0.000\n",
      "Número de iteraciones: 1\n"
     ]
    },
    {
     "data": {
      "text/plain": [
       "0.0"
      ]
     },
     "execution_count": 38,
     "metadata": {},
     "output_type": "execute_result"
    }
   ],
   "source": [
    "newton_raphson(f5, df5, 0, 0, 1, tol=10**(-4))"
   ]
  },
  {
   "cell_type": "markdown",
   "metadata": {},
   "source": [
    "## Ejercicio 5\n",
    "\n",
    "Utilice las órdenes apropiadas de Python para aproximar todos los puntos donde se anulan las funciones siguientes (si es necesario, represéntelas gráficamente):\n",
    "\n",
    "1. $f(x)=x^7-x^4+2$\n",
    "2. $f(x)=x^7+\\cos  x-3$"
   ]
  },
  {
   "cell_type": "markdown",
   "metadata": {},
   "source": [
    "### Solución al ejercicio 5"
   ]
  },
  {
   "cell_type": "markdown",
   "metadata": {},
   "source": [
    "El paquete `sympy` tiene una función para encontrar la solución exacta a una ecuación de la forma $f(x)=0$. Hemos implementado [una versión](#Encontrar-la-raíz-exacta-en-un-intervalo) que encuentra las soluciones en un intervalo en el que sepamos que hay una raíz única."
   ]
  },
  {
   "cell_type": "markdown",
   "metadata": {},
   "source": [
    "#### Apartado 5.1"
   ]
  },
  {
   "cell_type": "markdown",
   "metadata": {},
   "source": [
    "Es sencillo ver que $f(x)=x^7-x^4+2$ tiene única raíz en $\\mathbb{R}$. Por tanto, basta hacer:"
   ]
  },
  {
   "cell_type": "code",
   "execution_count": 39,
   "metadata": {},
   "outputs": [],
   "source": [
    "def f6(x):\n",
    "    return x**7-x**4+2\n",
    "funciones.append(f6)"
   ]
  },
  {
   "cell_type": "code",
   "execution_count": 40,
   "metadata": {},
   "outputs": [
    {
     "name": "stdout",
     "output_type": "stream",
     "text": [
      "Solución exacta en decimal: -1.00000000000000\n"
     ]
    },
    {
     "data": {
      "text/latex": [
       "$\\displaystyle -1$"
      ],
      "text/plain": [
       "-1"
      ]
     },
     "execution_count": 40,
     "metadata": {},
     "output_type": "execute_result"
    }
   ],
   "source": [
    "solucion_exacta(f6)"
   ]
  },
  {
   "cell_type": "markdown",
   "metadata": {},
   "source": [
    "Por tanto la raíz es $-1$."
   ]
  },
  {
   "cell_type": "markdown",
   "metadata": {},
   "source": [
    "#### Apartado 5.2\n",
    "\n",
    "Del mismo modo, vemos que $f(x)=x^7+\\cos x -3$ tiene una única raíz en $\\mathbb{R}$."
   ]
  },
  {
   "cell_type": "code",
   "execution_count": 41,
   "metadata": {},
   "outputs": [],
   "source": [
    "def f7(x):\n",
    "    return x**7+sp.cos(x)-3\n",
    "funciones.append(f7)"
   ]
  },
  {
   "cell_type": "code",
   "execution_count": 42,
   "metadata": {},
   "outputs": [
    {
     "name": "stdout",
     "output_type": "stream",
     "text": [
      "sympy no ha podido encontrar la solución exacta\n"
     ]
    }
   ],
   "source": [
    "solucion_exacta(f7)"
   ]
  },
  {
   "cell_type": "markdown",
   "metadata": {},
   "source": [
    "En la función `solucion_exacta` que hemos implementado, hemos insertado un bloque `try ... except` para no mostrar el log de errores completo. Sin embargo, si realizamos `sp.solve` \"manualmente\" veremos claramente que `sympy` no tiene implementados métodos para resolver ecuaciones de este tipo, pues obtenemos el error `NotImplementedError`:"
   ]
  },
  {
   "cell_type": "code",
   "execution_count": 43,
   "metadata": {},
   "outputs": [],
   "source": [
    "# sp.solve(f7(x), x)  --> ejecutar para ver NotImplementedError"
   ]
  },
  {
   "cell_type": "markdown",
   "metadata": {},
   "source": [
    "Como no podemos resolverlo simbólicamente, usaremos resolvedor numérico de `sympy`, `nsolve`, y veremos la aproximación que nos da."
   ]
  },
  {
   "cell_type": "code",
   "execution_count": 44,
   "metadata": {},
   "outputs": [
    {
     "data": {
      "text/latex": [
       "$\\displaystyle 1.14545980727001$"
      ],
      "text/plain": [
       "1.14545980727001"
      ]
     },
     "execution_count": 44,
     "metadata": {},
     "output_type": "execute_result"
    }
   ],
   "source": [
    "aprox = sp.nsolve(f7(x), x, 1)\n",
    "aprox"
   ]
  },
  {
   "cell_type": "markdown",
   "metadata": {},
   "source": [
    "Comprobemos esta aproximación haciendo un plot de la función en un entorno de ese punto, de radio $10^{-6}$:"
   ]
  },
  {
   "cell_type": "code",
   "execution_count": 45,
   "metadata": {},
   "outputs": [
    {
     "data": {
      "text/plain": [
       "Text(0.5, 1.0, 'Entorno de la raíz de f')"
      ]
     },
     "execution_count": 45,
     "metadata": {},
     "output_type": "execute_result"
    },
    {
     "data": {
      "image/png": "[encoded data removed]",
      "text/plain": [
       "<Figure size 576x576 with 1 Axes>"
      ]
     },
     "metadata": {
      "needs_background": "light"
     },
     "output_type": "display_data"
    }
   ],
   "source": [
    "nxx = 100;\n",
    "a = float(aprox) - 10**(-6); b = float(aprox) + 10**(-6)\n",
    "xx = np.linspace(a,b,nxx)\n",
    "yy = xx**7+np.cos(xx)-3\n",
    "fig, ax = plt.subplots(figsize=(8,8))\n",
    "ax.plot(xx,yy,'b',label='f(x)')\n",
    "ax.plot(float(aprox),0,'r|', label='aproximación')\n",
    "ax.axhline(y=0, color='k')\n",
    "ax.legend(loc='upper left')\n",
    "ax.set_xlabel('$x$',fontsize=18)\n",
    "ax.set_ylabel('$y$',fontsize=18)\n",
    "ax.set_title('Entorno de la raíz de f')"
   ]
  },
  {
   "cell_type": "markdown",
   "metadata": {},
   "source": [
    "Vemos que la aproximación es bastante buena."
   ]
  },
  {
   "cell_type": "markdown",
   "metadata": {},
   "source": [
    "## Ejercicio 6\n",
    "\n",
    "Aplicar los métodos de aceleración de la convergencia de Aitken y Steffensen (según los apuntes) a las sucesiones obtenidas para los distintos métodos programados en esta práctica y comparar los resultados. Para aplicar el método de aceleración de Steffensen, recuerde que para transformar cualquier ecuación de la forma  $f(x)=0$  en un problema de puntos fijos $g(x)=x$, la forma más simple puede ser definir  $g(x)=x \\pm f(x)$."
   ]
  },
  {
   "cell_type": "markdown",
   "metadata": {},
   "source": [
    "### Solución al ejercicio 6"
   ]
  },
  {
   "cell_type": "markdown",
   "metadata": {},
   "source": [
    "Para agilizar y modularizar el procedimiento, primero programamos los diversos métodos de la práctica a continuación, insertando además los elementos en un vector de iteraciones. En total programaremos:\n",
    "\n",
    "* `biseccion_iters`: método de bisección\n",
    "* `regula_falsi_iters`: método de Regula-Falsi\n",
    "* `secante_iters`: método de la secante\n",
    "* `newton_raphson_iters`: método de Newton-Raphson\n",
    "* `whittaker_iters`: método de Whittaker\n",
    "* `steffensen_iters`: método de Steffensen"
   ]
  },
  {
   "cell_type": "code",
   "execution_count": 46,
   "metadata": {},
   "outputs": [],
   "source": [
    "def biseccion_iters(f, a, b, maxiter=100, tol=10**(-5), prec=10**(-3), cifras=0):\n",
    "    # si no se especifican el número de cifras decimales a mostrar, se hará\n",
    "    # para que coincida con la precisión, es decir, si la precisión es\n",
    "    # 10**-n, el número de cifras a mostrar será n\n",
    "    # en caso de que la precisión no sea una potencia de 10, se usará\n",
    "    # la potencia de 10 inmediatamente inferior\n",
    "    if cifras <= 0:\n",
    "        cifras = int(np.ceil(abs(np.log10(prec))))\n",
    "    \n",
    "    exit = ''\n",
    "    iters = []\n",
    "    \n",
    "    niter = 0\n",
    "    while niter < maxiter:\n",
    "        c = (a+b)/2\n",
    "        iters.append(c)\n",
    "        \n",
    "        if abs(f(c)) < prec:\n",
    "            exit = 'precisión'\n",
    "            break\n",
    "        if sign(f(a)) != sign(f(c)):\n",
    "            b = c\n",
    "        else:\n",
    "            a = c\n",
    "        if b-a < tol:\n",
    "            exit = 'tolerancia'\n",
    "            break\n",
    "        \n",
    "        niter += 1\n",
    "    \n",
    "    print('maxiter={}, tol={}, prec={}, cifras={}'.format(maxiter, tol, prec, cifras))\n",
    "    \n",
    "    if exit == 'precisión':\n",
    "        print('Se ha alcanzado la precisión deseada')\n",
    "    elif exit == 'tolerancia':\n",
    "        print('Se ha alcanzado la máxima tolerancia')\n",
    "    elif niter >= maxiter:\n",
    "        print('Se llegó al número máximo de iteraciones')\n",
    "    \n",
    "    print('Aproximación de la solución:', Decimal(c))\n",
    "    print('Aproximación de la solución con', cifras, 'cifras significativas:', round(Decimal(c), cifras))\n",
    "    print('Número de iteraciones:', niter)\n",
    "    \n",
    "    return iters"
   ]
  },
  {
   "cell_type": "code",
   "execution_count": 47,
   "metadata": {},
   "outputs": [],
   "source": [
    "def regula_falsi_iters(f, a, b, maxiter=100, tol=10**(-5), prec=10**(-3), cifras=0):\n",
    "    # si no se especifican el número de cifras decimales a mostrar, se hará\n",
    "    # para que coincida con la precisión, es decir, si la precisión es\n",
    "    # 10**-n, el número de cifras a mostrar será n\n",
    "    # en caso de que la precisión no sea una potencia de 10, se usará\n",
    "    # la potencia de 10 inmediatamente inferior\n",
    "    if cifras <= 0:\n",
    "        cifras = int(np.ceil(abs(np.log10(prec))))\n",
    "    \n",
    "    exit = ''\n",
    "    iters = []\n",
    "    \n",
    "    niter = 0\n",
    "    while niter < maxiter:\n",
    "        c = b - ((a-b)*f(b))/(f(a)-f(b))\n",
    "        iters.append(c)\n",
    "        \n",
    "        if abs(f(c)) < prec:\n",
    "            exit = 'precisión'\n",
    "            break\n",
    "        if sign(f(a)) != sign(f(c)):\n",
    "            b = c\n",
    "        else:\n",
    "            a = c\n",
    "        if b-a < tol:\n",
    "            exit = 'tolerancia'\n",
    "            break\n",
    "        \n",
    "        niter += 1\n",
    "    \n",
    "    print('maxiter={}, tol={}, prec={}, cifras={}'.format(maxiter, tol, prec, cifras))\n",
    "    \n",
    "    if exit == 'precisión':\n",
    "        print('Se ha alcanzado la precisión deseada')\n",
    "    elif exit == 'tolerancia':\n",
    "        print('Se ha alcanzado la máxima tolerancia')\n",
    "    elif niter >= maxiter:\n",
    "        print('Se llegó al número máximo de iteraciones')\n",
    "    \n",
    "    print('Aproximación de la solución:', Decimal(c))\n",
    "    print('Aproximación de la solución con', cifras, 'cifras significativas:', round(Decimal(c), cifras))\n",
    "    print('Número de iteraciones:', niter)\n",
    "    \n",
    "    return iters"
   ]
  },
  {
   "cell_type": "code",
   "execution_count": 48,
   "metadata": {},
   "outputs": [],
   "source": [
    "def secante_iters(f, a, b, maxiter=100, tol=10**(-5), prec=10**(-3), cifras=0):\n",
    "    # si no se especifican el número de cifras decimales a mostrar, se hará\n",
    "    # para que coincida con la precisión, es decir, si la precisión es\n",
    "    # 10**-n, el número de cifras a mostrar será n\n",
    "    # en caso de que la precisión no sea una potencia de 10, se usará\n",
    "    # la potencia de 10 inmediatamente inferior\n",
    "    if cifras <= 0:\n",
    "        cifras = int(np.ceil(abs(np.log10(prec))))\n",
    "    \n",
    "    exit = ''\n",
    "    iters = []\n",
    "    \n",
    "    niter = 0\n",
    "    x0 = a; x1 = b\n",
    "    \n",
    "    while niter < maxiter:\n",
    "        niter = niter + 1;\n",
    "        c = x1 - f(x1)*(x1-x0)/(f(x1)-f(x0))\n",
    "        iters.append(c)\n",
    "        \n",
    "        if abs(f(c)) < prec:\n",
    "            sale = 'precision'\n",
    "            break\n",
    "        else:\n",
    "            x1,x0 = c,x1\n",
    "        if abs(x1-x0) < tol:\n",
    "            sale = 'tolerancia'\n",
    "            break\n",
    "    \n",
    "    print('maxiter={}, tol={}, prec={}, cifras={}'.format(maxiter, tol, prec, cifras))\n",
    "    \n",
    "    if exit == 'precisión':\n",
    "        print('Se ha alcanzado la precisión deseada')\n",
    "    elif exit == 'tolerancia':\n",
    "        print('Se ha alcanzado la máxima tolerancia')\n",
    "    elif niter >= maxiter:\n",
    "        print('Se llegó al número máximo de iteraciones')\n",
    "    \n",
    "    print('Aproximación de la solución:', Decimal(c))\n",
    "    print('Aproximación de la solución con', cifras, 'cifras significativas:', round(Decimal(c), cifras))\n",
    "    print('Número de iteraciones:', niter)\n",
    "    \n",
    "    return iters"
   ]
  },
  {
   "cell_type": "code",
   "execution_count": 49,
   "metadata": {},
   "outputs": [],
   "source": [
    "def newton_raphson_iters(f, df, x0, maxiter=100, tol=10**(-5), prec=10**(-3), cifras=0):\n",
    "    # si no se especifican el número de cifras decimales a mostrar, se hará\n",
    "    # para que coincida con la precisión, es decir, si la precisión es\n",
    "    # 10**-n, el número de cifras a mostrar será n\n",
    "    # en caso de que la precisión no sea una potencia de 10, se usará\n",
    "    # la potencia de 10 inmediatamente inferior\n",
    "    if cifras <= 0:\n",
    "        cifras = int(np.ceil(abs(np.log10(prec))))\n",
    "    \n",
    "    exit = ''\n",
    "    \n",
    "    iters = [x0]\n",
    "    niter = 0\n",
    "    while niter < maxiter:\n",
    "        niter += 1\n",
    "        x1 = x0 - f(x0)/df(x0)\n",
    "        iters.append(x1)\n",
    "        \n",
    "        if abs(f(x1)) < prec:\n",
    "            exit = 'precisión'\n",
    "            break\n",
    "        if abs(x1-x0) < tol:\n",
    "            exit = 'tolerancia'\n",
    "            break\n",
    "        x0 = x1\n",
    "    \n",
    "    print('maxiter={}, tol={}, prec={}, cifras={}'.format(maxiter, tol, prec, cifras))\n",
    "    \n",
    "    if exit == 'precisión':\n",
    "        print('Se ha alcanzado la precisión deseada')\n",
    "    elif exit == 'tolerancia':\n",
    "        print('Se ha alcanzado la máxima tolerancia')\n",
    "    elif niter >= maxiter:\n",
    "        print('Se llegó al número máximo de iteraciones')\n",
    "    \n",
    "    print('Aproximación de la solución:', Decimal(x1))\n",
    "    print('Aproximación de la solución con', cifras, 'cifras significativas:', round(Decimal(x1), cifras))\n",
    "    print('Número de iteraciones:', niter)\n",
    "    \n",
    "    return iters"
   ]
  },
  {
   "cell_type": "code",
   "execution_count": 50,
   "metadata": {},
   "outputs": [],
   "source": [
    "def whittaker_iters(f, m, x0, maxiter=100, tol=10**(-5), prec=10**(-3), cifras=0):\n",
    "    # si no se especifican el número de cifras decimales a mostrar, se hará\n",
    "    # para que coincida con la precisión, es decir, si la precisión es\n",
    "    # 10**-n, el número de cifras a mostrar será n\n",
    "    # en caso de que la precisión no sea una potencia de 10, se usará\n",
    "    # la potencia de 10 inmediatamente inferior\n",
    "    if cifras <= 0:\n",
    "        cifras = int(np.ceil(abs(np.log10(prec))))\n",
    "    \n",
    "    exit = ''\n",
    "    \n",
    "    iters = [x0]\n",
    "    niter = 0\n",
    "    while niter < maxiter:\n",
    "        niter += 1\n",
    "        x1 = x0 - f(x0)/m\n",
    "        iters.append(x1)\n",
    "        \n",
    "        if abs(f(x1)) < prec:\n",
    "            exit = 'precisión'\n",
    "            break\n",
    "        if abs(x1-x0) < tol:\n",
    "            exit = 'tolerancia'\n",
    "            break\n",
    "        x0 = x1\n",
    "    \n",
    "    print('maxiter={}, tol={}, prec={}, cifras={}'.format(maxiter, tol, prec, cifras))\n",
    "    \n",
    "    if exit == 'precisión':\n",
    "        print('Se ha alcanzado la precisión deseada')\n",
    "    elif exit == 'tolerancia':\n",
    "        print('Se ha alcanzado la máxima tolerancia')\n",
    "    elif niter >= maxiter:\n",
    "        print('Se llegó al número máximo de iteraciones')\n",
    "    \n",
    "    print('Aproximación de la solución:', Decimal(x1))\n",
    "    print('Aproximación de la solución con', cifras, 'cifras significativas:', round(Decimal(x1), cifras))\n",
    "    print('Número de iteraciones:', niter)\n",
    "    \n",
    "    return iters"
   ]
  },
  {
   "cell_type": "code",
   "execution_count": 51,
   "metadata": {},
   "outputs": [],
   "source": [
    "def steffensen_iters(f, df, x0, maxiter=100, tol=10**(-5), prec=10**(-3), cifras=0):\n",
    "    # si no se especifican el número de cifras decimales a mostrar, se hará\n",
    "    # para que coincida con la precisión, es decir, si la precisión es\n",
    "    # 10**-n, el número de cifras a mostrar será n\n",
    "    # en caso de que la precisión no sea una potencia de 10, se usará\n",
    "    # la potencia de 10 inmediatamente inferior\n",
    "    if cifras <= 0:\n",
    "        cifras = int(np.ceil(abs(np.log10(prec))))\n",
    "    \n",
    "    exit = ''\n",
    "    \n",
    "    iters = [x0]\n",
    "    niter = 0\n",
    "    while niter < maxiter:\n",
    "        niter += 1\n",
    "        x1 = x0 - f(x0)**2/(f(x0+f(x0))-f(x0))\n",
    "        iters.append(x1)\n",
    "        \n",
    "        if abs(f(x1)) < prec:\n",
    "            exit = 'precisión'\n",
    "            break\n",
    "        if abs(x1-x0) < tol:\n",
    "            exit = 'tolerancia'\n",
    "            break\n",
    "        x0 = x1\n",
    "    \n",
    "    print('maxiter={}, tol={}, prec={}, cifras={}'.format(maxiter, tol, prec, cifras))\n",
    "    \n",
    "    if exit == 'precisión':\n",
    "        print('Se ha alcanzado la precisión deseada')\n",
    "    elif exit == 'tolerancia':\n",
    "        print('Se ha alcanzado la máxima tolerancia')\n",
    "    elif niter >= maxiter:\n",
    "        print('Se llegó al número máximo de iteraciones')\n",
    "    \n",
    "    print('Aproximación de la solución:', Decimal(x1))\n",
    "    print('Aproximación de la solución con', cifras, 'cifras significativas:', round(Decimal(x1), cifras))\n",
    "    print('Número de iteraciones:', niter)\n",
    "    \n",
    "    return iters"
   ]
  },
  {
   "cell_type": "markdown",
   "metadata": {},
   "source": [
    "A continuación programaremos la aceleración de Aitken. Dada una sucesión de iteraciones, $\\{x_n\\}_{n\\geq 0}$, construimos la sucesión acelerada $\\{\\hat{x}_n\\}_{n\\geq 0}$ como$$\\hat{x}_n=x_n-\\frac{(\\Delta x_n)^2}{\\Delta^2 x_n}=x_n-\\frac{(x_{n+1}-x_n)^2}{x_{n+2}-2x_{n+1}+x_n}$$"
   ]
  },
  {
   "cell_type": "code",
   "execution_count": 52,
   "metadata": {},
   "outputs": [],
   "source": [
    "def aceleracion_aitken(iters):\n",
    "    iters_a = []\n",
    "    for n in range(len(iters)-2):\n",
    "        iters_a.append(iters[n]-(iters[n+1]-iters[n])**2/(iters[n+2]-2*iters[n+1]+iters[n]))\n",
    "\n",
    "    return iters_a"
   ]
  },
  {
   "cell_type": "markdown",
   "metadata": {},
   "source": [
    "Finalmente programamos la aceleración de Stefensen. Tomaremos la tolerancia como criterio de parada."
   ]
  },
  {
   "cell_type": "code",
   "execution_count": 53,
   "metadata": {},
   "outputs": [],
   "source": [
    "def aceleracion_steffensen(f, iters, tol=10**(-5)):\n",
    "    g = lambda x: x - f(x)\n",
    "    \n",
    "    st = [1]\n",
    "    x0, x1 = 0, 1\n",
    "    \n",
    "    while (abs(x1 - x0) >= tol):    \n",
    "        v0 = iters[0]-(iters[1]-iters[0])**2/(iters[2]-2*iters[1]+iters[0])\n",
    "        v1 = g(v0)\n",
    "        v2 = g(v1)\n",
    "        st.append(v0)\n",
    "        iters = [v0, v1, v2]\n",
    "        \n",
    "        x1 = st[-1]; x0 = st[-2]\n",
    "    \n",
    "    return st[1:]"
   ]
  },
  {
   "cell_type": "markdown",
   "metadata": {},
   "source": [
    "Vamos a realizar las comparaciones sobre alguna de las funciones que hemos definido anteriormente. Por ejemplo, `f0`, que recordamos estaba definida en el [ejercicio 1](#Ejercicio-1):$$f(x)=x^3+4x-10$$"
   ]
  },
  {
   "cell_type": "code",
   "execution_count": 54,
   "metadata": {},
   "outputs": [
    {
     "data": {
      "text/plain": [
       "(<function __main__.f0(x)>, <function __main__.df0(x)>)"
      ]
     },
     "execution_count": 54,
     "metadata": {},
     "output_type": "execute_result"
    }
   ],
   "source": [
    "f0, df0"
   ]
  },
  {
   "cell_type": "markdown",
   "metadata": {},
   "source": [
    "Recordemos que $f$ sólo tenía una raíz en $\\mathbb{R}$, que se encuentra en $[1,2]$. Por tanto, podemos aplicar bisección, Regula-Falsi y secante en el intervalo $[1,2]$. Además, se puede demostrar que el método de Newton-Raphson converge a la solución en este intervalo para cualquier $x_0$ inicial. Tomaremos $x_0=1.3$. También tomaremos este $x_0$ para Whittaker y Steffensen. Tomaremos $m=f'(x_0)$ para Whittaker."
   ]
  },
  {
   "cell_type": "code",
   "execution_count": 55,
   "metadata": {
    "scrolled": true
   },
   "outputs": [
    {
     "name": "stdout",
     "output_type": "stream",
     "text": [
      "[Bisección]\n",
      "maxiter=100, tol=1e-05, prec=0.001, cifras=3\n",
      "Se ha alcanzado la precisión deseada\n",
      "Aproximación de la solución: 1.5567626953125\n",
      "Aproximación de la solución con 3 cifras significativas: 1.557\n",
      "Número de iteraciones: 12\n",
      "[Regula-Falsi]\n",
      "maxiter=100, tol=1e-05, prec=0.001, cifras=3\n",
      "Se ha alcanzado la precisión deseada\n",
      "Aproximación de la solución: 1.5566911363236892729133842294686473906040191650390625\n",
      "Aproximación de la solución con 3 cifras significativas: 1.557\n",
      "Número de iteraciones: 4\n",
      "[Secante]\n",
      "maxiter=100, tol=1e-05, prec=0.001, cifras=3\n",
      "Aproximación de la solución: 1.556767783245746716858093350310809910297393798828125\n",
      "Aproximación de la solución con 3 cifras significativas: 1.557\n",
      "Número de iteraciones: 4\n",
      "[Newton-Raphson]\n",
      "maxiter=100, tol=1e-05, prec=0.001, cifras=3\n",
      "Se ha alcanzado la precisión deseada\n",
      "Aproximación de la solución: 1.5567733222841038109862665805849246680736541748046875\n",
      "Aproximación de la solución con 3 cifras significativas: 1.557\n",
      "Número de iteraciones: 3\n",
      "[Whittaker]\n",
      "maxiter=100, tol=1e-05, prec=0.001, cifras=3\n",
      "Se ha alcanzado la precisión deseada\n",
      "Aproximación de la solución: 1.5567465795314781029645700982655398547649383544921875\n",
      "Aproximación de la solución con 3 cifras significativas: 1.557\n",
      "Número de iteraciones: 6\n",
      "[Steffensen]\n",
      "maxiter=100, tol=1e-05, prec=0.001, cifras=3\n",
      "Se ha alcanzado la precisión deseada\n",
      "Aproximación de la solución: 1.556778817825917204942243188270367681980133056640625\n",
      "Aproximación de la solución con 3 cifras significativas: 1.557\n",
      "Número de iteraciones: 6\n"
     ]
    }
   ],
   "source": [
    "a = 1; b = 2; x0 = 1.3; m = df0(x0)\n",
    "\n",
    "iters = []\n",
    "print(\"[Bisección]\")\n",
    "iters.append(biseccion_iters(f0, a, b))\n",
    "print(\"[Regula-Falsi]\")\n",
    "iters.append(regula_falsi_iters(f0, a, b))\n",
    "print(\"[Secante]\")\n",
    "iters.append(secante_iters(f0, a, b))\n",
    "print(\"[Newton-Raphson]\")\n",
    "iters.append(newton_raphson_iters(f0, df0, x0))\n",
    "print(\"[Whittaker]\")\n",
    "iters.append(whittaker_iters(f0, m, x0))\n",
    "print(\"[Steffensen]\")\n",
    "iters.append(steffensen_iters(f0, df0, x0))"
   ]
  },
  {
   "cell_type": "code",
   "execution_count": 56,
   "metadata": {
    "scrolled": true
   },
   "outputs": [
    {
     "data": {
      "text/plain": [
       "[[1.5,\n",
       "  1.75,\n",
       "  1.625,\n",
       "  1.5625,\n",
       "  1.53125,\n",
       "  1.546875,\n",
       "  1.5546875,\n",
       "  1.55859375,\n",
       "  1.556640625,\n",
       "  1.5576171875,\n",
       "  1.55712890625,\n",
       "  1.556884765625,\n",
       "  1.5567626953125],\n",
       " [1.4545454545454546,\n",
       "  1.5393401015228427,\n",
       "  1.5538452345212188,\n",
       "  1.5562827746246575,\n",
       "  1.5566911363236893],\n",
       " [1.4545454545454546,\n",
       "  1.5393401015228427,\n",
       "  1.5575294878392076,\n",
       "  1.5567677832457467],\n",
       " [1.3, 1.5869900771775083, 1.5571470603935478, 1.5567733222841038],\n",
       " [1.3,\n",
       "  1.5869900771775083,\n",
       "  1.548968650690248,\n",
       "  1.5586355638509501,\n",
       "  1.5563196332977893,\n",
       "  1.556883221700839,\n",
       "  1.556746579531478],\n",
       " [1.3,\n",
       "  1.7571551810891253,\n",
       "  1.680993828205968,\n",
       "  1.614245835479416,\n",
       "  1.5713647287260548,\n",
       "  1.5578195890347042,\n",
       "  1.5567788178259172]]"
      ]
     },
     "execution_count": 56,
     "metadata": {},
     "output_type": "execute_result"
    }
   ],
   "source": [
    "iters"
   ]
  },
  {
   "cell_type": "markdown",
   "metadata": {},
   "source": [
    "Ahora aplicaremos los procesos de aceleración de Aitken y de Steffensen a cada una de las sucesiones obtenidas por los métodos anteriores."
   ]
  },
  {
   "cell_type": "code",
   "execution_count": 57,
   "metadata": {},
   "outputs": [
    {
     "name": "stdout",
     "output_type": "stream",
     "text": [
      "Solución exacta en decimal: 1.55677326439421\n"
     ]
    }
   ],
   "source": [
    "iters_aitken = []\n",
    "iters_steffensen = []\n",
    "for it in iters:\n",
    "    iters_aitken.append(aceleracion_aitken(it))\n",
    "    iters_steffensen.append(aceleracion_steffensen(f0, it))\n",
    "\n",
    "valor_exacto = solucion_exacta(f0).evalf()"
   ]
  },
  {
   "cell_type": "markdown",
   "metadata": {},
   "source": [
    "Para comparar, compararemos el error de las iteraciones del algoritmo principal con las de las aceleraciones de Aitken y Steffensen, así como el número de la última iteración (`n`), para cada uno de los algoritmos de aproximación anteriores."
   ]
  },
  {
   "cell_type": "code",
   "execution_count": 58,
   "metadata": {},
   "outputs": [
    {
     "name": "stdout",
     "output_type": "stream",
     "text": [
      "Algoritmo                 Error algoritmo     n               Error Aitken     n           Error Steffensen     n\n",
      "-------------- -------------------------- ----- -------------------------- ----- -------------------------- -----\n",
      "Bisección           0.0000105690817113757    13       0.000132639394211376    11       3.63780117140777E-11     6\n",
      "Regula-Falsi        0.0000821280705221028     5        5.26174224191323E-8     3       1.33226762955019E-15     3\n",
      "Secante            0.00000548114846465886     4      0.0000251341807773198     2       3.06421554796543E-14     4\n",
      "Newton-Raphson        5.78898924352700E-8     4     0.00000468196736691517     2       2.22044604925031E-16     4\n",
      "Whittaker           0.0000266848627332728     7        2.06707038152842E-8     5       2.22044604925031E-16     4\n",
      "Steffensen         0.00000555343170582923     7      0.0000810726710478438     5       6.66133814775094E-16     7\n"
     ]
    }
   ],
   "source": [
    "row = [\"Algoritmo\", \"Error algoritmo\", \"n\", \"Error Aitken\", \"n\", \"Error Steffensen\", \"n\"]\n",
    "print(\"{: <14} {: >26} {: >5} {: >26} {: >5} {: >26} {: >5}\".format(*row))\n",
    "print(\"-------------- -------------------------- ----- -------------------------- ----- -------------------------- -----\")\n",
    "\n",
    "algoritmos = [\"Bisección\", \"Regula-Falsi\", \"Secante\", \"Newton-Raphson\", \"Whittaker\", \"Steffensen\"]\n",
    "\n",
    "for i in range(len(algoritmos)):\n",
    "    row = [algoritmos[i]]\n",
    "    \n",
    "    # error algoritmo\n",
    "    n = len(iters[i])\n",
    "    val = iters[i][n-1]\n",
    "    row.append(abs(val-valor_exacto))\n",
    "    row.append(n)\n",
    "    \n",
    "    # error Aitken\n",
    "    n = len(iters_aitken[i])\n",
    "    val = iters_aitken[i][n-1]\n",
    "    row.append(abs(val-valor_exacto))\n",
    "    row.append(n)\n",
    "    \n",
    "    # error Steffensen\n",
    "    n = len(iters_steffensen[i])\n",
    "    val = iters_steffensen[i][n-1]\n",
    "    row.append(abs(val-valor_exacto))\n",
    "    row.append(n)\n",
    "    \n",
    "    print(\"{: <14} {: >26} {: >5} {: >26} {: >5} {: >26} {: >5}\".format(*row))"
   ]
  },
  {
   "cell_type": "markdown",
   "metadata": {},
   "source": [
    "## Ejercicio 7\n",
    "\n",
    "Programar el método de Newton-Raphson acelerado, partiendo de cierto $x_0$ adecuado: $$x_{n+1}=x_n - m\\frac{f(x_n)}{f'(x_n)}, \\quad n=0,1,2,\\ldots$$ para el caso de una raíz múltiple (de multiplicidad $m\\in\\mathbb{N}$) de una ecuación del tipo $f(x)=0$ y comparar los resultados\n",
    "con los que se obtienen mediante el empleo de los métodos de aceleración habituales de Aitken y Steffensen (según los apuntes)."
   ]
  },
  {
   "cell_type": "markdown",
   "metadata": {},
   "source": [
    "### Solución al ejercicio 7"
   ]
  },
  {
   "cell_type": "markdown",
   "metadata": {},
   "source": [
    "Lo programamos sencillamente a partir del de Newton-Raphson:"
   ]
  },
  {
   "cell_type": "code",
   "execution_count": 59,
   "metadata": {},
   "outputs": [],
   "source": [
    "def newton_raphson_acelerado(f, df, m, x0, a=-sp.oo, b=sp.oo, maxiter=100, tol=10**(-5), prec=10**(-3), cifras=0):\n",
    "    # si no se especifican el número de cifras decimales a mostrar, se hará\n",
    "    # para que coincida con la precisión, es decir, si la precisión es\n",
    "    # 10**-n, el número de cifras a mostrar será n\n",
    "    # en caso de que la precisión no sea una potencia de 10, se usará\n",
    "    # la potencia de 10 inmediatamente inferior\n",
    "    if cifras <= 0:\n",
    "        cifras = int(np.ceil(abs(np.log10(prec))))\n",
    "    \n",
    "    exit = ''\n",
    "    \n",
    "    niter = 0\n",
    "    while niter < maxiter:\n",
    "        niter += 1\n",
    "        x1 = x0 - m*f(x0)/df(x0)\n",
    "        if abs(f(x1)) < prec:\n",
    "            exit = 'precisión'\n",
    "            break\n",
    "        if abs(x1-x0) < tol:\n",
    "            exit = 'tolerancia'\n",
    "            break\n",
    "        x0 = x1\n",
    "    \n",
    "    print('maxiter={}, tol={}, prec={}, cifras={}'.format(maxiter, tol, prec, cifras))\n",
    "    \n",
    "    if exit == 'precisión':\n",
    "        print('Se ha alcanzado la precisión deseada')\n",
    "    elif exit == 'tolerancia':\n",
    "        print('Se ha alcanzado la máxima tolerancia')\n",
    "    elif niter >= maxiter:\n",
    "        print('Se llegó al número máximo de iteraciones')\n",
    "    \n",
    "    print('Aproximación de la solución:', Decimal(x1))\n",
    "    print('Aproximación de la solución con', cifras, 'cifras significativas:', round(Decimal(x1), cifras))\n",
    "    print('Número de iteraciones:', niter)\n",
    "    \n",
    "    return x1"
   ]
  },
  {
   "cell_type": "markdown",
   "metadata": {},
   "source": [
    "Lo usaremos para encontrar la raíz múltiple $\\sqrt{2}$, de multiplicidad $m=3$, de la ecuación$$f(x)=(x-\\sqrt{2})^3(x+4)$$"
   ]
  },
  {
   "cell_type": "code",
   "execution_count": 60,
   "metadata": {},
   "outputs": [],
   "source": [
    "def f8(x):\n",
    "    return (x-np.sqrt(2))**3*(x+4)"
   ]
  },
  {
   "cell_type": "code",
   "execution_count": 61,
   "metadata": {},
   "outputs": [
    {
     "data": {
      "text/latex": [
       "$\\displaystyle 3 \\left(x + 4\\right) \\left(x - \\sqrt{2}\\right)^{2} + \\left(x - \\sqrt{2}\\right)^{3}$"
      ],
      "text/plain": [
       "3*(x + 4)*(x - sqrt(2))**2 + (x - sqrt(2))**3"
      ]
     },
     "execution_count": 61,
     "metadata": {},
     "output_type": "execute_result"
    }
   ],
   "source": [
    "sp.diff((x-sp.sqrt(2))**3*(x+4),x)"
   ]
  },
  {
   "cell_type": "code",
   "execution_count": 62,
   "metadata": {},
   "outputs": [],
   "source": [
    "def df8(x):\n",
    "    return 3*(x+4)*(x-np.sqrt(2))**2+(x-np.sqrt(2))**3"
   ]
  },
  {
   "cell_type": "code",
   "execution_count": 63,
   "metadata": {},
   "outputs": [
    {
     "name": "stdout",
     "output_type": "stream",
     "text": [
      "Solución exacta en decimal: 1.41421356237310\n"
     ]
    },
    {
     "data": {
      "text/latex": [
       "$\\displaystyle 1.4142135623731$"
      ],
      "text/plain": [
       "1.41421356237310"
      ]
     },
     "execution_count": 63,
     "metadata": {},
     "output_type": "execute_result"
    }
   ],
   "source": [
    "valor_exacto = solucion_exacta(f8, 0, 2)\n",
    "valor_exacto"
   ]
  },
  {
   "cell_type": "markdown",
   "metadata": {},
   "source": [
    "Pondremos $x_0=25$, por ejemplo, para tener más iteraciones, pues converge muy rápido."
   ]
  },
  {
   "cell_type": "code",
   "execution_count": 64,
   "metadata": {
    "scrolled": true
   },
   "outputs": [
    {
     "name": "stdout",
     "output_type": "stream",
     "text": [
      "maxiter=100, tol=1e-05, prec=0.0001, cifras=4\n",
      "Se ha alcanzado la precisión deseada\n",
      "Aproximación de la solución: 1.43966471556344810522887200932018458843231201171875\n",
      "Aproximación de la solución con 4 cifras significativas: 1.4397\n",
      "Número de iteraciones: 3\n"
     ]
    },
    {
     "data": {
      "text/plain": [
       "1.439664715563448"
      ]
     },
     "execution_count": 64,
     "metadata": {},
     "output_type": "execute_result"
    }
   ],
   "source": [
    "newton_raphson_acelerado(f8, df8, 3, 25, prec=10**(-4))"
   ]
  },
  {
   "cell_type": "markdown",
   "metadata": {},
   "source": [
    "Compararemos ahora con Aitken y Stefensen. Del mismo modo, creamos una función que guarda las iteraciones."
   ]
  },
  {
   "cell_type": "code",
   "execution_count": 65,
   "metadata": {},
   "outputs": [],
   "source": [
    "def newton_raphson_acelerado_iters(f, df, m, x0, maxiter=100, tol=10**(-5), prec=10**(-3), cifras=0):\n",
    "    # si no se especifican el número de cifras decimales a mostrar, se hará\n",
    "    # para que coincida con la precisión, es decir, si la precisión es\n",
    "    # 10**-n, el número de cifras a mostrar será n\n",
    "    # en caso de que la precisión no sea una potencia de 10, se usará\n",
    "    # la potencia de 10 inmediatamente inferior\n",
    "    if cifras <= 0:\n",
    "        cifras = int(np.ceil(abs(np.log10(prec))))\n",
    "    \n",
    "    exit = ''\n",
    "    \n",
    "    iters = [x0]\n",
    "    niter = 0\n",
    "    while niter < maxiter:\n",
    "        niter += 1\n",
    "        x1 = x0 - m*f(x0)/df(x0)\n",
    "        iters.append(x1)\n",
    "        \n",
    "        if abs(f(x1)) < prec:\n",
    "            exit = 'precisión'\n",
    "            break\n",
    "        if abs(x1-x0) < tol:\n",
    "            exit = 'tolerancia'\n",
    "            break\n",
    "        x0 = x1\n",
    "    \n",
    "    print('maxiter={}, tol={}, prec={}, cifras={}'.format(maxiter, tol, prec, cifras))\n",
    "    \n",
    "    if exit == 'precisión':\n",
    "        print('Se ha alcanzado la precisión deseada')\n",
    "    elif exit == 'tolerancia':\n",
    "        print('Se ha alcanzado la máxima tolerancia')\n",
    "    elif niter >= maxiter:\n",
    "        print('Se llegó al número máximo de iteraciones')\n",
    "    \n",
    "    print('Aproximación de la solución:', Decimal(x1))\n",
    "    print('Aproximación de la solución con', cifras, 'cifras significativas:', round(Decimal(x1), cifras))\n",
    "    print('Número de iteraciones:', niter)\n",
    "    \n",
    "    return iters"
   ]
  },
  {
   "cell_type": "code",
   "execution_count": 66,
   "metadata": {},
   "outputs": [
    {
     "name": "stdout",
     "output_type": "stream",
     "text": [
      "maxiter=100, tol=1e-05, prec=0.0001, cifras=4\n",
      "Se ha alcanzado la precisión deseada\n",
      "Aproximación de la solución: 1.43966471556344810522887200932018458843231201171875\n",
      "Aproximación de la solución con 4 cifras significativas: 1.4397\n",
      "Número de iteraciones: 3\n"
     ]
    }
   ],
   "source": [
    "iters = newton_raphson_acelerado_iters(f8, df8, 3, 25, prec=10**(-4))"
   ]
  },
  {
   "cell_type": "code",
   "execution_count": 67,
   "metadata": {
    "scrolled": true
   },
   "outputs": [
    {
     "data": {
      "text/plain": [
       "[25, 6.444600737809118, 2.1100848456345567, 1.439664715563448]"
      ]
     },
     "execution_count": 67,
     "metadata": {},
     "output_type": "execute_result"
    }
   ],
   "source": [
    "iters"
   ]
  },
  {
   "cell_type": "code",
   "execution_count": 68,
   "metadata": {},
   "outputs": [],
   "source": [
    "iters_aitken = aceleracion_aitken(iters)\n",
    "iters_steffensen = aceleracion_steffensen(f8, iters, tol=10**(-3))"
   ]
  },
  {
   "cell_type": "markdown",
   "metadata": {},
   "source": [
    "Esta vez podemos comparar a la vista:"
   ]
  },
  {
   "cell_type": "code",
   "execution_count": 69,
   "metadata": {},
   "outputs": [
    {
     "data": {
      "text/latex": [
       "$\\displaystyle 1.4142135623731$"
      ],
      "text/plain": [
       "1.41421356237310"
      ]
     },
     "execution_count": 69,
     "metadata": {},
     "output_type": "execute_result"
    }
   ],
   "source": [
    "valor_exacto"
   ]
  },
  {
   "cell_type": "code",
   "execution_count": 70,
   "metadata": {},
   "outputs": [
    {
     "data": {
      "text/plain": [
       "[25, 6.444600737809118, 2.1100848456345567, 1.439664715563448]"
      ]
     },
     "execution_count": 70,
     "metadata": {},
     "output_type": "execute_result"
    }
   ],
   "source": [
    "iters"
   ]
  },
  {
   "cell_type": "code",
   "execution_count": 71,
   "metadata": {},
   "outputs": [
    {
     "data": {
      "text/plain": [
       "[0.7889272543187431, 1.3169978476684507]"
      ]
     },
     "execution_count": 71,
     "metadata": {},
     "output_type": "execute_result"
    }
   ],
   "source": [
    "iters_aitken"
   ]
  },
  {
   "cell_type": "code",
   "execution_count": 72,
   "metadata": {},
   "outputs": [
    {
     "data": {
      "text/plain": [
       "[0.7889272543187431,\n",
       " 1.4300072104287338,\n",
       " 1.4247406163133771,\n",
       " 1.421231754993639,\n",
       " 1.4188927416107997,\n",
       " 1.4173332795661917,\n",
       " 1.416293522960526,\n",
       " 1.4156002556537108]"
      ]
     },
     "execution_count": 72,
     "metadata": {},
     "output_type": "execute_result"
    }
   ],
   "source": [
    "iters_steffensen"
   ]
  },
  {
   "cell_type": "markdown",
   "metadata": {},
   "source": [
    "## Ejercicio 8\n",
    "\n",
    "Programar el conocido algoritmo de Horner para la evaluación de un polinomio y emplearlo de forma reiterativa para el cálculo del desarrollo de Taylor de orden $ n$ de un polinomio cualquiera. Aprovecharlo también para programar una versión especial del método de Newton-Raphson para polinomios, evaluando tanto  $ p(x_k ) $ como $ p'(x_k)$ mediante el citado algoritmo y aplicarlo para aproximar alguna de las raíces reales del siguiente polinomio\n",
    "$$p(x)=d_0 + d_1 x + d_2 x^2 + d_3 x^3+ d_4 x^4 + d_5 x^5 + d_6 x^6 + d_7 x^7 $$\n",
    "(siendo $d_0, d_1, \\ldots, d_7$ los dígitos de su DNI, pasaporte o tarjeta de residente)."
   ]
  },
  {
   "cell_type": "markdown",
   "metadata": {},
   "source": [
    "### Solución al ejercicio 8\n",
    "\n",
    "Primero veamos cuál sería \"mi polinomio\", se trataría de: $$p(x)=1+2x+3x^2+4x^3+5x^4+6x^5+7x^6+8x^7$$\n",
    "\n",
    "> **Nota:** para proteger mis datos personales, supondremos que mi DNI es 12345678.\n",
    "\n",
    "Programaremos el algoritmo de Horner a continuación. Para ello, deberemos extraer los coeficientes del polinomio. Realizaremos una primera aproximación en la que le pasaremos un array de coeficientes, de forma que un polinomio$$p(x)=a_0+a_1x+a_2x^2+...+a_nx^n$$se corresponde al array `[a_0, a_1, ..., a_n]`.\n",
    "\n",
    "Nuestra primera aproximación del algoritmo tendrá como _input_ este array."
   ]
  },
  {
   "cell_type": "code",
   "execution_count": 73,
   "metadata": {},
   "outputs": [],
   "source": [
    "def horner_prev(coefs, x0):\n",
    "    n = len(coefs)\n",
    "    b = coefs[n-1]\n",
    "    \n",
    "    for a in coefs[-2::-1]:\n",
    "        b = a + b*x0\n",
    "        \n",
    "    return b   "
   ]
  },
  {
   "cell_type": "markdown",
   "metadata": {},
   "source": [
    "Comprobemos que funciona con ciertos valores (por ejemplo, de -5 a 5 en pasos de 0.5). Nótese que nuestro polinomio $p$ tiene como array de coeficientes `[1, 2, 3, 4, 5, 6, 7, 8]`."
   ]
  },
  {
   "cell_type": "code",
   "execution_count": 86,
   "metadata": {},
   "outputs": [],
   "source": [
    "def p(x):\n",
    "    return 1+2*x+3*x**2+4*x**3+5*x**4+6*x**5+7*x**6+8*x**7 # insertar polinomio dependiendo de DNI"
   ]
  },
  {
   "cell_type": "code",
   "execution_count": 87,
   "metadata": {},
   "outputs": [],
   "source": [
    "p_c = [1, 2, 3, 4, 5, 6, 7, 8]"
   ]
  },
  {
   "cell_type": "code",
   "execution_count": 88,
   "metadata": {},
   "outputs": [
    {
     "data": {
      "text/plain": [
       "True"
      ]
     },
     "execution_count": 88,
     "metadata": {},
     "output_type": "execute_result"
    }
   ],
   "source": [
    "all([horner_prev(p_c, x0) == p(x0) for x0 in np.arange(-5,5,0.5)])"
   ]
  },
  {
   "cell_type": "markdown",
   "metadata": {},
   "source": [
    "Sin embargo, resulta un poco tedioso tener que extraer los coeficientes a mano de un polinomio. Por suerte, `sympy` nos permite hacerlo rápidamente:"
   ]
  },
  {
   "cell_type": "code",
   "execution_count": 89,
   "metadata": {},
   "outputs": [],
   "source": [
    "def get_coefs(p):\n",
    "    x = sp.Symbol('x')\n",
    "    coefs = sp.Poly(p(x),x).all_coeffs()[::-1]\n",
    "    return coefs"
   ]
  },
  {
   "cell_type": "code",
   "execution_count": 90,
   "metadata": {},
   "outputs": [
    {
     "data": {
      "text/plain": [
       "[1, 2, 3, 4, 5, 6, 7, 8]"
      ]
     },
     "execution_count": 90,
     "metadata": {},
     "output_type": "execute_result"
    }
   ],
   "source": [
    "get_coefs(p)"
   ]
  },
  {
   "cell_type": "markdown",
   "metadata": {},
   "source": [
    "Ahora podemos implementar el algoritmo de Horner de forma que le pasemos un polinomio directamente:"
   ]
  },
  {
   "cell_type": "code",
   "execution_count": 91,
   "metadata": {},
   "outputs": [],
   "source": [
    "def horner(p, x0):\n",
    "    coefs = get_coefs(p)\n",
    "    return horner_prev(coefs, x0)"
   ]
  },
  {
   "cell_type": "markdown",
   "metadata": {},
   "source": [
    "Que usaremos en una nueva implementación de Newton-Raphson que evalúe usando Horner."
   ]
  },
  {
   "cell_type": "code",
   "execution_count": 92,
   "metadata": {},
   "outputs": [],
   "source": [
    "def newton_raphson_horner(f, df, x0, a=-sp.oo, b=sp.oo, maxiter=100, tol=10**(-5), prec=10**(-3), cifras=0):\n",
    "    # si no se especifican el número de cifras decimales a mostrar, se hará\n",
    "    # para que coincida con la precisión, es decir, si la precisión es\n",
    "    # 10**-n, el número de cifras a mostrar será n\n",
    "    # en caso de que la precisión no sea una potencia de 10, se usará\n",
    "    # la potencia de 10 inmediatamente inferior\n",
    "    if cifras <= 0:\n",
    "        cifras = int(np.ceil(abs(np.log10(prec))))\n",
    "    \n",
    "    exit = ''\n",
    "    \n",
    "    niter = 0\n",
    "    while niter < maxiter:\n",
    "        niter += 1\n",
    "        x1 = x0 - horner(f,x0)/horner(df,x0)\n",
    "        if abs(f(x1)) < prec:\n",
    "            exit = 'precisión'\n",
    "            break\n",
    "        if abs(x1-x0) < tol:\n",
    "            exit = 'tolerancia'\n",
    "            break\n",
    "        x0 = x1\n",
    "    \n",
    "    print('maxiter={}, tol={}, prec={}, cifras={}'.format(maxiter, tol, prec, cifras))\n",
    "    \n",
    "    if exit == 'precisión':\n",
    "        print('Se ha alcanzado la precisión deseada')\n",
    "    elif exit == 'tolerancia':\n",
    "        print('Se ha alcanzado la máxima tolerancia')\n",
    "    elif niter >= maxiter:\n",
    "        print('Se llegó al número máximo de iteraciones')\n",
    "    \n",
    "    print('Aproximación de la solución:', float(x1))\n",
    "    print('Aproximación de la solución con', cifras, 'cifras significativas:', round(float(x1), cifras))\n",
    "    print('Número de iteraciones:', niter)\n",
    "    \n",
    "    return x1"
   ]
  },
  {
   "cell_type": "markdown",
   "metadata": {},
   "source": [
    "Lo usaremos para nuestro $p$, para ello calculamos el valor de su derivada:"
   ]
  },
  {
   "cell_type": "code",
   "execution_count": 93,
   "metadata": {},
   "outputs": [
    {
     "data": {
      "text/latex": [
       "$\\displaystyle 56 x^{6} + 42 x^{5} + 30 x^{4} + 20 x^{3} + 12 x^{2} + 6 x + 2$"
      ],
      "text/plain": [
       "56*x**6 + 42*x**5 + 30*x**4 + 20*x**3 + 12*x**2 + 6*x + 2"
      ]
     },
     "execution_count": 93,
     "metadata": {},
     "output_type": "execute_result"
    }
   ],
   "source": [
    "sp.diff(p(x),x)"
   ]
  },
  {
   "cell_type": "code",
   "execution_count": 94,
   "metadata": {},
   "outputs": [],
   "source": [
    "def dp(x):\n",
    "    return 56*x**6+42*x**5+30*x**4+20*x**3+12*x**2+6*x+2"
   ]
  },
  {
   "cell_type": "code",
   "execution_count": 95,
   "metadata": {},
   "outputs": [
    {
     "name": "stdout",
     "output_type": "stream",
     "text": [
      "maxiter=100, tol=1e-05, prec=0.001, cifras=3\n",
      "Se ha alcanzado la precisión deseada\n",
      "Aproximación de la solución: -0.7145407880613922\n",
      "Aproximación de la solución con 3 cifras significativas: -0.715\n",
      "Número de iteraciones: 5\n"
     ]
    },
    {
     "data": {
      "text/latex": [
       "$\\displaystyle - \\frac{1415208032277310183881106108418585049205444015347119012220076825559160639396620752905143107854653432004724241971737265860071359767964679724897665515626323925379965828795414078914824958657996617268073045857868144191216180396007254146304120890420583712265282527837402389659231078703159148911043201979280380935181673135197367923935287440273939213047535759176803855450423191208697105233808846642906340311529173832034585619684237476341057573154826873943075665457415136668040926713714814670517993308437170593121492848899183281659694660291830572097104382875660273870901954585461603813858158953089203528705224920912244117766944884757433690127272692973521155505647283392759835948563264284847099150338671373497850363409793285730565975138759737605375265846643641547526849407713035204897195776513203092473333699945369448955879296265911438617230515085309126188014359725993916761124328380199701408571992638982456793706977558261357669405637232154067351023497582973183198079799113217991016827979022109426760831779705795808319980892787070449404878351721790801479647917746326753047987543878649916847874918915673033671866724504622360118345880525064120706134038585247599698035776473759187538125304029584883076212851920127358166800571448357206245253848836526537050281947164924152682574463641713820299398671551620447195715327171956788081093956193298636021574584318484684370215780937726438605846546666518412294816033683700563105792692992885789335317593677312693405802918635707400434680900158328646764223882440903909555468294022184135246172334685052840173274287489155034458653894411031341378076124558564759942382547315844965409469368810409983944704656524715013795405701053419144605147167790992737220768758535542078629897220564214830395569883631828996116007745134495438227382191930587959506023997745458442873083651577741159747048891339112972414451461053300974670798191027749703262863984012885824776290852393488625308764864445732899570042712262348859438637398606469330060936105979121220563784010247721307608858077697346950751475648435038469868419862227200382718412479181154366327}{1980583972143683763952459092154546636433560701264812555717939659255315231982906828242382240689696360248166128998445228540624890977175009063016046510521240901041988051260639581518314223888383838628487451228145992447845917869283119464279722172119276474249748985904289449422803890926827850304550981369507629317068321501308435476476647625815742135838541355783993014314896992905013023590436301686745890594823992438902429097555882101723529625903669072715113137119808322198987864014346703194472320942782151773431808410767921061881375145829564392950732492118867552783083449216225393827591687198845079118755146793922119855432811191412792183897200485624613727961282401028072474934897793548210745246947647904603958071467560367728073042567904097534348443815113175171573551208870349613883827632993242337049327472615817394986656459107247259787666999748849241381643370732966775000003009197970371719064892834792221219477122903747325844795279694475719176861914522082395692494053793953296476632765952546374077902219456257011409235964823064749316526638554754997461006960898072288615027208659520179610328996674794253233871968790221088645615763227934036850193622220726017769434673842525891789427896537187287168899279343676680165432604727532554962305755586277150416335614622430804223885354557056115156008296952718109182507586137284342858957719383171532538980710926935110204065678664893701854476346791392434118060143503611861701789249586218713737976945998495271798961252698261712113137024694173971575606141848469836811649245412491526414239540410565014618132547463216550465624144499098227764676592220766311882637728282289655053405617811805463911337443577419041837987329886636333772224392925240877093864926554672652397261103054560033857783876048473058675815315695301874358365558091092764231035452056443213017261241728579275603621473710519859951531442923908957024511071460594611164682234519921776428524723141882878665349321809007371775315886463215719047885537482747605724785410854079245586758808207161194974793916485498727919932760976176001669960069463017315610059948515821634568}$"
      ],
      "text/plain": [
       "-1415208032277310183881106108418585049205444015347119012220076825559160639396620752905143107854653432004724241971737265860071359767964679724897665515626323925379965828795414078914824958657996617268073045857868144191216180396007254146304120890420583712265282527837402389659231078703159148911043201979280380935181673135197367923935287440273939213047535759176803855450423191208697105233808846642906340311529173832034585619684237476341057573154826873943075665457415136668040926713714814670517993308437170593121492848899183281659694660291830572097104382875660273870901954585461603813858158953089203528705224920912244117766944884757433690127272692973521155505647283392759835948563264284847099150338671373497850363409793285730565975138759737605375265846643641547526849407713035204897195776513203092473333699945369448955879296265911438617230515085309126188014359725993916761124328380199701408571992638982456793706977558261357669405637232154067351023497582973183198079799113217991016827979022109426760831779705795808319980892787070449404878351721790801479647917746326753047987543878649916847874918915673033671866724504622360118345880525064120706134038585247599698035776473759187538125304029584883076212851920127358166800571448357206245253848836526537050281947164924152682574463641713820299398671551620447195715327171956788081093956193298636021574584318484684370215780937726438605846546666518412294816033683700563105792692992885789335317593677312693405802918635707400434680900158328646764223882440903909555468294022184135246172334685052840173274287489155034458653894411031341378076124558564759942382547315844965409469368810409983944704656524715013795405701053419144605147167790992737220768758535542078629897220564214830395569883631828996116007745134495438227382191930587959506023997745458442873083651577741159747048891339112972414451461053300974670798191027749703262863984012885824776290852393488625308764864445732899570042712262348859438637398606469330060936105979121220563784010247721307608858077697346950751475648435038469868419862227200382718412479181154366327/1980583972143683763952459092154546636433560701264812555717939659255315231982906828242382240689696360248166128998445228540624890977175009063016046510521240901041988051260639581518314223888383838628487451228145992447845917869283119464279722172119276474249748985904289449422803890926827850304550981369507629317068321501308435476476647625815742135838541355783993014314896992905013023590436301686745890594823992438902429097555882101723529625903669072715113137119808322198987864014346703194472320942782151773431808410767921061881375145829564392950732492118867552783083449216225393827591687198845079118755146793922119855432811191412792183897200485624613727961282401028072474934897793548210745246947647904603958071467560367728073042567904097534348443815113175171573551208870349613883827632993242337049327472615817394986656459107247259787666999748849241381643370732966775000003009197970371719064892834792221219477122903747325844795279694475719176861914522082395692494053793953296476632765952546374077902219456257011409235964823064749316526638554754997461006960898072288615027208659520179610328996674794253233871968790221088645615763227934036850193622220726017769434673842525891789427896537187287168899279343676680165432604727532554962305755586277150416335614622430804223885354557056115156008296952718109182507586137284342858957719383171532538980710926935110204065678664893701854476346791392434118060143503611861701789249586218713737976945998495271798961252698261712113137024694173971575606141848469836811649245412491526414239540410565014618132547463216550465624144499098227764676592220766311882637728282289655053405617811805463911337443577419041837987329886636333772224392925240877093864926554672652397261103054560033857783876048473058675815315695301874358365558091092764231035452056443213017261241728579275603621473710519859951531442923908957024511071460594611164682234519921776428524723141882878665349321809007371775315886463215719047885537482747605724785410854079245586758808207161194974793916485498727919932760976176001669960069463017315610059948515821634568"
      ]
     },
     "execution_count": 95,
     "metadata": {},
     "output_type": "execute_result"
    }
   ],
   "source": [
    "newton_raphson_horner(p, dp, -1)"
   ]
  },
  {
   "cell_type": "code",
   "execution_count": 96,
   "metadata": {},
   "outputs": [
    {
     "name": "stdout",
     "output_type": "stream",
     "text": [
      "maxiter=100, tol=1e-05, prec=0.001, cifras=3\n",
      "Se ha alcanzado la precisión deseada\n",
      "Aproximación de la solución: -0.714540788061392095897872422938235104084014892578125\n",
      "Aproximación de la solución con 3 cifras significativas: -0.715\n",
      "Número de iteraciones: 5\n"
     ]
    },
    {
     "data": {
      "text/plain": [
       "-0.7145407880613921"
      ]
     },
     "execution_count": 96,
     "metadata": {},
     "output_type": "execute_result"
    }
   ],
   "source": [
    "newton_raphson(p, dp, -1)"
   ]
  },
  {
   "cell_type": "markdown",
   "metadata": {},
   "source": [
    "Nótese que, al operar con coeficientes enteros, nuestro algoritmo con Horner nos da menos cifras decimales. Hemos de tener aquí también en cuenta errores relacionados con la representación de decimales en el ordenador."
   ]
  }
 ],
 "metadata": {
  "kernelspec": {
   "display_name": "Python 3",
   "language": "python",
   "name": "python3"
  },
  "language_info": {
   "codemirror_mode": {
    "name": "ipython",
    "version": 3
   },
   "file_extension": ".py",
   "mimetype": "text/x-python",
   "name": "python",
   "nbconvert_exporter": "python",
   "pygments_lexer": "ipython3",
   "version": "3.6.9"
  }
 },
 "nbformat": 4,
 "nbformat_minor": 4
}
